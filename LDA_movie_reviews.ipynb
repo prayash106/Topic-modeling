{
 "cells": [
  {
   "cell_type": "code",
   "execution_count": 1,
   "id": "2259cf6a",
   "metadata": {},
   "outputs": [
    {
     "name": "stdout",
     "output_type": "stream",
     "text": [
      "2000\n"
     ]
    },
    {
     "data": {
      "text/html": [
       "<div>\n",
       "<style scoped>\n",
       "    .dataframe tbody tr th:only-of-type {\n",
       "        vertical-align: middle;\n",
       "    }\n",
       "\n",
       "    .dataframe tbody tr th {\n",
       "        vertical-align: top;\n",
       "    }\n",
       "\n",
       "    .dataframe thead th {\n",
       "        text-align: right;\n",
       "    }\n",
       "</style>\n",
       "<table border=\"1\" class=\"dataframe\">\n",
       "  <thead>\n",
       "    <tr style=\"text-align: right;\">\n",
       "      <th></th>\n",
       "      <th>text</th>\n",
       "    </tr>\n",
       "  </thead>\n",
       "  <tbody>\n",
       "    <tr>\n",
       "      <th>0</th>\n",
       "      <td>plot : two teen couples go to a church party ,...</td>\n",
       "    </tr>\n",
       "    <tr>\n",
       "      <th>1</th>\n",
       "      <td>the happy bastard's quick movie review \\ndamn ...</td>\n",
       "    </tr>\n",
       "    <tr>\n",
       "      <th>2</th>\n",
       "      <td>it is movies like these that make a jaded movi...</td>\n",
       "    </tr>\n",
       "    <tr>\n",
       "      <th>3</th>\n",
       "      <td>\" quest for camelot \" is warner bros . ' firs...</td>\n",
       "    </tr>\n",
       "    <tr>\n",
       "      <th>4</th>\n",
       "      <td>synopsis : a mentally unstable man undergoing ...</td>\n",
       "    </tr>\n",
       "  </tbody>\n",
       "</table>\n",
       "</div>"
      ],
      "text/plain": [
       "                                                text\n",
       "0  plot : two teen couples go to a church party ,...\n",
       "1  the happy bastard's quick movie review \\ndamn ...\n",
       "2  it is movies like these that make a jaded movi...\n",
       "3   \" quest for camelot \" is warner bros . ' firs...\n",
       "4  synopsis : a mentally unstable man undergoing ..."
      ]
     },
     "execution_count": 1,
     "metadata": {},
     "output_type": "execute_result"
    }
   ],
   "source": [
    "# Importing modules\n",
    "import pandas as pd\n",
    "import nltk\n",
    "\n",
    "#Importing the data set\n",
    "rows = []\n",
    "for fileid in nltk.corpus.movie_reviews.fileids():\n",
    "    rows.append({\"text\": nltk.corpus.movie_reviews.raw(fileid)})\n",
    "df = pd.DataFrame(rows)\n",
    "print(len(df)) \n",
    "df.head()"
   ]
  },
  {
   "cell_type": "code",
   "execution_count": 2,
   "id": "578ac4db",
   "metadata": {},
   "outputs": [
    {
     "data": {
      "text/plain": [
       "0    plot : two teen couples go to a church party  ...\n",
       "1    the happy bastard's quick movie review \\ndamn ...\n",
       "2    it is movies like these that make a jaded movi...\n",
       "3     \" quest for camelot \" is warner bros  ' first...\n",
       "4    synopsis : a mentally unstable man undergoing ...\n",
       "Name: text, dtype: object"
      ]
     },
     "execution_count": 2,
     "metadata": {},
     "output_type": "execute_result"
    }
   ],
   "source": [
    "#pre-processing: basic cleaning and removing stopwords(if needed)\n",
    "# Load the regular expression library\n",
    "import re\n",
    "# Remove punctuation\n",
    "df['text'] = \\\n",
    "df['text'].map(lambda x: re.sub('[,\\.!?]', '', x))\n",
    "#Convert the titles to lowercase\n",
    "df['text'] = \\\n",
    "df['text'].map(lambda x: x.lower())\n",
    "# Print out the first rows of papers\n",
    "df['text'].head()"
   ]
  },
  {
   "cell_type": "code",
   "execution_count": 4,
   "id": "7c41447a",
   "metadata": {},
   "outputs": [
    {
     "name": "stdout",
     "output_type": "stream",
     "text": [
      "['plot', 'two', 'teen', 'couples', 'go', 'to', 'church', 'party', 'drink', 'and', 'then', 'drive', 'they', 'get', 'into', 'an', 'accident', 'one', 'of', 'the', 'guys', 'dies', 'but', 'his', 'girlfriend', 'continues', 'to', 'see', 'him', 'in']\n"
     ]
    }
   ],
   "source": [
    "# Function to tokenize text and remove punctuation using gensim's simple_preprocess\n",
    "from gensim.utils import simple_preprocess\n",
    "def sent_to_words(sentences):\n",
    "    for sentence in sentences:\n",
    "        # deacc=True removes punctuations\n",
    "        yield(simple_preprocess(str(sentence), deacc=True))\n",
    "\n",
    "# Convert the processed text column to a list of sentences\n",
    "data = df['text'].values.tolist()\n",
    "\n",
    "# Tokenize the sentences\n",
    "data_words = list(sent_to_words(data))\n",
    "\n",
    "# Print the first 30 tokens of the first sentence\n",
    "print(data_words[:1][0][:30])"
   ]
  },
  {
   "cell_type": "code",
   "execution_count": 5,
   "id": "e741573b",
   "metadata": {},
   "outputs": [
    {
     "name": "stdout",
     "output_type": "stream",
     "text": [
      "['the', 'happy_bastard', 'quick', 'movie', 'review', 'damn', 'that', 'bug', 'it', 'got', 'head', 'start', 'in', 'this', 'movie', 'starring', 'jamie_lee_curtis', 'and', 'another', 'baldwin', 'brother', 'william', 'this', 'time', 'in', 'story', 'regarding', 'crew', 'of', 'tugboat', 'that', 'comes_across', 'deserted', 'russian', 'tech', 'ship', 'that', 'has', 'strangeness', 'to', 'it', 'when', 'they', 'kick', 'the', 'power', 'back', 'on', 'little', 'do', 'they', 'know', 'the', 'power', 'within', 'going', 'for', 'the', 'gore', 'and', 'bringing', 'on', 'few', 'action_sequences', 'here', 'and', 'there', 'virus', 'still', 'feels', 'very', 'empty', 'like', 'movie', 'going', 'for', 'all', 'flash', 'and', 'no', 'substance', 'we', 'don', 'know', 'why', 'the', 'crew', 'was', 'really', 'out', 'in', 'the', 'middle', 'of', 'nowhere', 'we', 'don', 'know', 'the', 'origin', 'of', 'what', 'took', 'over', 'the', 'ship', 'just', 'that', 'big', 'pink', 'flashy', 'thing', 'hit', 'the', 'mir', 'and', 'of', 'course', 'we', 'don', 'know', 'why', 'donald_sutherland', 'is', 'stumbling', 'around', 'drunkenly', 'throughout', 'here', 'it', 'just', 'hey', 'let', 'chase', 'these', 'people', 'around', 'with', 'some', 'robots', 'the', 'acting', 'is', 'below', 'average', 'even', 'from', 'the', 'likes', 'of', 'curtis', 'you', 're', 'more', 'likely', 'to', 'get', 'kick', 'out', 'of', 'her', 'work', 'in', 'halloween', 'sutherland', 'is', 'wasted', 'and', 'baldwin', 'well', 'he', 'acting', 'like', 'baldwin', 'of', 'course', 'the', 'real', 'star', 'here', 'are', 'stan', 'winston', 'robot', 'design', 'some', 'schnazzy', 'cgi', 'and', 'the', 'occasional', 'good', 'gore', 'shot', 'like', 'picking', 'into', 'someone', 'brain', 'so', 'if', 'robots', 'and', 'body', 'parts', 'really', 'turn', 'you', 'on', 'here', 'your', 'movie', 'otherwise', 'it', 'pretty', 'much', 'sunken', 'ship', 'of', 'movie']\n"
     ]
    }
   ],
   "source": [
    "import gensim.models\n",
    "# Build the bigram and trigram models\n",
    "bigram = gensim.models.Phrases(data_words, min_count=5, threshold=100) # higher threshold fewer phrases.\n",
    "trigram = gensim.models.Phrases(bigram[data_words], threshold=100)  \n",
    "\n",
    "# Faster way to get a sentence clubbed as a trigram and bigram\n",
    "bigram_mod = gensim.models.phrases.Phraser(bigram)\n",
    "trigram_mod = gensim.models.phrases.Phraser(trigram)\n",
    "\n",
    "# See trigram example\n",
    "print(trigram_mod[bigram_mod[data_words[1]]])"
   ]
  },
  {
   "cell_type": "code",
   "execution_count": 6,
   "id": "63dd56d5",
   "metadata": {},
   "outputs": [
    {
     "name": "stdout",
     "output_type": "stream",
     "text": [
      "['i', 'me', 'my', 'myself', 'we', 'our', 'ours', 'ourselves', 'you', \"you're\", \"you've\", \"you'll\", \"you'd\", 'your', 'yours', 'yourself', 'yourselves', 'he', 'him', 'his', 'himself', 'she', \"she's\", 'her', 'hers', 'herself', 'it', \"it's\", 'its', 'itself', 'they', 'them', 'their', 'theirs', 'themselves', 'what', 'which', 'who', 'whom', 'this', 'that', \"that'll\", 'these', 'those', 'am', 'is', 'are', 'was', 'were', 'be', 'been', 'being', 'have', 'has', 'had', 'having', 'do', 'does', 'did', 'doing', 'a', 'an', 'the', 'and', 'but', 'if', 'or', 'because', 'as', 'until', 'while', 'of', 'at', 'by', 'for', 'with', 'about', 'against', 'between', 'into', 'through', 'during', 'before', 'after', 'above', 'below', 'to', 'from', 'up', 'down', 'in', 'out', 'on', 'off', 'over', 'under', 'again', 'further', 'then', 'once', 'here', 'there', 'when', 'where', 'why', 'how', 'all', 'any', 'both', 'each', 'few', 'more', 'most', 'other', 'some', 'such', 'no', 'nor', 'not', 'only', 'own', 'same', 'so', 'than', 'too', 'very', 's', 't', 'can', 'will', 'just', 'don', \"don't\", 'should', \"should've\", 'now', 'd', 'll', 'm', 'o', 're', 've', 'y', 'ain', 'aren', \"aren't\", 'couldn', \"couldn't\", 'didn', \"didn't\", 'doesn', \"doesn't\", 'hadn', \"hadn't\", 'hasn', \"hasn't\", 'haven', \"haven't\", 'isn', \"isn't\", 'ma', 'mightn', \"mightn't\", 'mustn', \"mustn't\", 'needn', \"needn't\", 'shan', \"shan't\", 'shouldn', \"shouldn't\", 'wasn', \"wasn't\", 'weren', \"weren't\", 'won', \"won't\", 'wouldn', \"wouldn't\", 'from', 'subject', 're', 'use', 'film', 'movie', 'character', 'scene', 'story', 'director', 'actor', 'plot']\n"
     ]
    },
    {
     "name": "stderr",
     "output_type": "stream",
     "text": [
      "[nltk_data] Downloading package stopwords to\n",
      "[nltk_data]     /Users/prayashpathak/nltk_data...\n",
      "[nltk_data]   Package stopwords is already up-to-date!\n"
     ]
    }
   ],
   "source": [
    "# NLTK Stop words\n",
    "import nltk\n",
    "nltk.download('stopwords')\n",
    "from nltk.corpus import stopwords\n",
    "\n",
    "stop_words_en = stopwords.words('english')\n",
    "stop_words_en.extend(['from', 'subject', 're', 'use'])\n",
    "\n",
    "#some customizable stop words for movie review texts\n",
    "stop_words_en.extend(['film', 'movie', 'character', 'scene', 'story', 'director', 'actor', 'plot'])\n",
    "stop_words = stop_words_en\n",
    "\n",
    "print(stop_words)"
   ]
  },
  {
   "cell_type": "code",
   "execution_count": 7,
   "id": "2be0068d",
   "metadata": {},
   "outputs": [],
   "source": [
    "#LDA pre-processing\n",
    "# Define functions for stopwords2 and lemmatization\n",
    "\n",
    "def remove_stopwords(texts):\n",
    "    return [[word for word in simple_preprocess(str(doc)) if word not in stop_words] for doc in texts]\n",
    "\n",
    "def make_bigrams(texts):\n",
    "    return [bigram_mod[doc] for doc in texts]\n",
    "\n",
    "def make_trigrams(texts):\n",
    "    return [trigram_mod[bigram_mod[doc]] for doc in texts]\n",
    "\n",
    "def lemmatization(texts, allowed_postags=['NOUN', 'ADJ', 'VERB', 'ADV']):\n",
    "    \"\"\"https://spacy.io/api/annotation\"\"\"\n",
    "    texts_out = []\n",
    "    for sent in texts:\n",
    "        doc = nlp(\" \".join(sent)) \n",
    "        texts_out.append([token.lemma_ for token in doc if token.pos_ in allowed_postags])\n",
    "    return texts_out\n"
   ]
  },
  {
   "cell_type": "code",
   "execution_count": 8,
   "id": "bf62d702",
   "metadata": {},
   "outputs": [
    {
     "name": "stdout",
     "output_type": "stream",
     "text": [
      "['teen', 'couple', 'go', 'drink', 'drive', 'get', 'accident', 'guy', 'die', 'girlfriend', 'continue', 'see', 'life', 'nightmare', 'deal', 'watch', 'find', 'critique', 'mind', 'fuck', 'teen', 'generation', 'touch', 'cool', 'idea', 'present', 'bad', 'package', 'make', 'review']\n"
     ]
    }
   ],
   "source": [
    "import spacy\n",
    "\n",
    "# Remove Stop Words\n",
    "data_words_nostops = remove_stopwords(data_words)\n",
    "\n",
    "# Form Bigrams\n",
    "data_words_bigrams = make_bigrams(data_words_nostops)\n",
    "\n",
    "data_words_trigrams = make_trigrams(data_words_bigrams)\n",
    "\n",
    "# Initialize spacy 'en' model, keeping only tagger component (for efficiency)\n",
    "# python3 -m spacy download en\n",
    "\n",
    "nlp = spacy.load(\"en_core_web_sm\", disable=['parser', 'ner'])\n",
    "\n",
    "data_lemma = lemmatization(data_words_trigrams, allowed_postags=['NOUN', 'ADJ', 'VERB', 'ADV'])\n",
    "\n",
    "# Remove Stop Words\n",
    "data_lemmatized = remove_stopwords(data_lemma)\n",
    "\n",
    "\n",
    "print(data_lemmatized[:1][0][:30])"
   ]
  },
  {
   "cell_type": "code",
   "execution_count": 9,
   "id": "2338ff9d",
   "metadata": {},
   "outputs": [],
   "source": [
    "#write function for similarity of 2 responses\n",
    "import math \n",
    "import string \n",
    "import sys \n",
    "import numpy as np\n",
    "\n",
    "# counts frequency of each word \n",
    "# returns a dictionary which maps \n",
    "# the words to their frequency. \n",
    "def count_frequency(word_list): \n",
    "    D = {}\n",
    "    for new_word in word_list: \n",
    "        D[new_word] = D.get(new_word, 0) + 1\n",
    "    return D \n",
    "\n",
    "# returns dictionary of (word, frequency) \n",
    "# pairs from the previous dictionary. \n",
    "def word_frequencies_for_file(word_list): \n",
    "    return count_frequency(word_list)\n",
    "\n",
    "\n",
    "# returns the dot product of two documents \n",
    "def dotProduct(D1, D2): \n",
    "    return sum(D1[key] * D2.get(key, 0) for key in D1)\n",
    "\n",
    "# returns the angle in radians \n",
    "# between document vectors \n",
    "def vector_angle(D1, D2): \n",
    "    numerator = dotProduct(D1, D2) \n",
    "    denominator = math.sqrt(dotProduct(D1, D1) * dotProduct(D2, D2))\n",
    "    return math.acos(numerator / denominator) if denominator != 0 else 0\n",
    "\n",
    "\n",
    "def documentSimilarity2(filename_1, filename_2): \n",
    "    sorted_word_list_1 = word_frequencies_for_file(filename_1) \n",
    "    sorted_word_list_2 = word_frequencies_for_file(filename_2) \n",
    "    distance = vector_angle(sorted_word_list_1, sorted_word_list_2) \n",
    "    return np.rad2deg(distance)  # Convert from radians to degrees\n",
    "\n",
    "def do_repeat(filename_1, filename_2): \n",
    "    similarity = documentSimilarity2(filename_1, filename_2) \n",
    "    return 1 if similarity <= 10 else 0\n"
   ]
  },
  {
   "cell_type": "code",
   "execution_count": 10,
   "id": "226dd0f7",
   "metadata": {},
   "outputs": [
    {
     "name": "stderr",
     "output_type": "stream",
     "text": [
      "100%|███████████████████████████████████| 2000/2000 [00:00<00:00, 393535.75it/s]\n"
     ]
    }
   ],
   "source": [
    "#function to check for blank responses\n",
    "\n",
    "import numpy as np\n",
    "import tqdm\n",
    "\n",
    "# Initialize the text_blank column to 0\n",
    "df['text_blank'] = 0\n",
    "\n",
    "# Check for blank entries and update the 'answer_blank' column\n",
    "pbar = tqdm.tqdm(total=len(data_lemmatized))\n",
    "for i in range(len(data_lemmatized)):\n",
    "    if not data_lemmatized[i]:  # Check if the list is empty\n",
    "        df.loc[i, 'text_blank'] = 1  # Use .loc for assignment\n",
    "    pbar.update(1)\n",
    "pbar.close()\n",
    "\n",
    "# Get the list of indices where the text is blank\n",
    "i_list = df[df['text_blank'] == 1].index.tolist()\n",
    "\n",
    "# Reverse the index list to ensure correct removal order\n",
    "i_list.reverse()\n",
    "\n",
    "# Create a copy of the lemmatized data\n",
    "lem2 = data_lemmatized.copy()\n",
    "\n",
    "# Remove blank elements from the lemmatized data using the reversed indices\n",
    "for i in i_list:\n",
    "    lem2.pop(i)\n",
    "\n",
    "# Build a new DataFrame without the blanks\n",
    "df_new = df[df['text_blank'] == 0].reset_index(drop=True)\n",
    "\n",
    "# Replace the original DataFrame and lemmatized list\n",
    "df_withblanks = df\n",
    "df = df_new\n",
    "\n",
    "data_lemmatized_withblanks = data_lemmatized\n",
    "data_lemmatized = lem2\n",
    "\n",
    "# Final check to ensure consistency\n",
    "assert len(df) == len(data_lemmatized), \"Mismatch between df and data_lemmatized lengths!\"\n"
   ]
  },
  {
   "cell_type": "code",
   "execution_count": 11,
   "id": "0b818cc6",
   "metadata": {},
   "outputs": [
    {
     "name": "stderr",
     "output_type": "stream",
     "text": [
      "100%|███████████████████████████████| 1999000/1999000 [04:41<00:00, 7105.89it/s]\n"
     ]
    }
   ],
   "source": [
    "#function to check for repeated responses\n",
    "import numpy as np\n",
    "import tqdm\n",
    "import random \n",
    "import math \n",
    "\n",
    "# Initialize the text_repeat column to 0\n",
    "df['text_repeat'] = 0\n",
    "\n",
    "# Progress bar to track the time taken for comparison\n",
    "pbar = tqdm.tqdm(total=len(df) * (len(df) - 1) // 2)\n",
    "for doc1 in range(len(df['text_repeat'])):\n",
    "    for doc2 in range(doc1 + 1, len(df['text_repeat'])):\n",
    "        if do_repeat(data_lemmatized[doc1], data_lemmatized[doc2]) == 1:\n",
    "            df.loc[doc1, 'text_repeat'] = 1\n",
    "            df.loc[doc2, 'text_repeat'] = 2\n",
    "        pbar.update(1)\n",
    "pbar.close()\n",
    "\n",
    "# Collect indices of repeated documents\n",
    "i_list_norep = df[df['text_repeat'] == 2].index.tolist()\n",
    "\n",
    "# Reverse the list to remove items from the end first\n",
    "i_list_norep.reverse()\n",
    "\n",
    "# Copy the lemmatized data\n",
    "lem2_norep = data_lemmatized.copy()\n",
    "\n",
    "# Remove repeated documents from lemmatized data\n",
    "for i in i_list_norep:\n",
    "    lem2_norep.pop(i)\n",
    "\n",
    "# Build a new DataFrame without the repeats\n",
    "df_norep = df[df['text_repeat'] < 2].reset_index(drop=True)\n",
    "\n",
    "# Replace the original variables\n",
    "df_noblankswithreps = df\n",
    "df = df_norep\n",
    "\n",
    "data_lemmatized_noblankswithrep = data_lemmatized\n",
    "data_lemmatized = lem2_norep\n",
    "\n",
    "# Final consistency check to ensure that the number of documents matches the number of lemmatized text lists\n",
    "assert len(df) == len(data_lemmatized), \"Mismatch between df and data_lemmatized lengths!\"\n"
   ]
  },
  {
   "cell_type": "code",
   "execution_count": 12,
   "id": "da11b6a8",
   "metadata": {},
   "outputs": [
    {
     "name": "stdout",
     "output_type": "stream",
     "text": [
      "1994\n",
      "1994\n"
     ]
    }
   ],
   "source": [
    "#final pre-processing output\n",
    "print(len(df))\n",
    "print(len(data_lemmatized))"
   ]
  },
  {
   "cell_type": "code",
   "execution_count": 13,
   "id": "59ceb5fc",
   "metadata": {},
   "outputs": [
    {
     "name": "stdout",
     "output_type": "stream",
     "text": [
      "[(0, 1), (1, 2), (2, 1), (3, 1), (4, 1), (5, 2), (6, 1), (7, 1), (8, 1), (9, 1), (10, 1)]\n"
     ]
    }
   ],
   "source": [
    "#now create input for LDA model:dictionary and corpus\n",
    "import gensim.corpora as corpora\n",
    "\n",
    "# Create Dictionary\n",
    "id2word = corpora.Dictionary(data_lemmatized)\n",
    "\n",
    "# Create Corpus\n",
    "texts = data_lemmatized\n",
    "\n",
    "# Term Document Frequency\n",
    "corpus = [id2word.doc2bow(text) for text in texts]\n",
    "\n",
    "# View\n",
    "print(corpus[:1][0][:11])\n"
   ]
  },
  {
   "cell_type": "code",
   "execution_count": 14,
   "id": "c953cdd3",
   "metadata": {},
   "outputs": [],
   "source": [
    "# Build LDA model with arbitary hyperparameters and number of topics\n",
    "import gensim.models\n",
    "lda_model_0 = gensim.models.LdaMulticore(corpus=corpus,\n",
    "                                       id2word=id2word,\n",
    "                                       num_topics=6,\n",
    "                                       random_state=100,\n",
    "                                       chunksize=100,\n",
    "                                       passes=10,\n",
    "                                       per_word_topics=True,\n",
    "                                       workers=4)\n"
   ]
  },
  {
   "cell_type": "code",
   "execution_count": 15,
   "id": "e9610763",
   "metadata": {},
   "outputs": [
    {
     "name": "stdout",
     "output_type": "stream",
     "text": [
      "[(0,\n",
      "  '0.007*\"make\" + 0.007*\"get\" + 0.006*\"time\" + 0.005*\"see\" + 0.005*\"go\" + '\n",
      "  '0.005*\"even\" + 0.005*\"scream\" + 0.005*\"bad\" + 0.005*\"first\" + '\n",
      "  '0.004*\"horror\"'),\n",
      " (1,\n",
      "  '0.018*\"vampire\" + 0.005*\"blade\" + 0.004*\"sandler\" + 0.003*\"woman\" + '\n",
      "  '0.003*\"play\" + 0.003*\"carpenter\" + 0.002*\"make\" + 0.002*\"writer\" + '\n",
      "  '0.002*\"sex\" + 0.002*\"comedy\"'),\n",
      " (2,\n",
      "  '0.009*\"get\" + 0.008*\"make\" + 0.007*\"go\" + 0.007*\"see\" + 0.006*\"good\" + '\n",
      "  '0.006*\"well\" + 0.006*\"even\" + 0.005*\"time\" + 0.005*\"play\" + 0.005*\"know\"'),\n",
      " (3,\n",
      "  '0.008*\"make\" + 0.005*\"good\" + 0.005*\"see\" + 0.005*\"time\" + 0.005*\"well\" + '\n",
      "  '0.005*\"get\" + 0.005*\"life\" + 0.004*\"go\" + 0.004*\"man\" + 0.004*\"even\"'),\n",
      " (4,\n",
      "  '0.011*\"get\" + 0.010*\"good\" + 0.010*\"make\" + 0.008*\"go\" + 0.007*\"see\" + '\n",
      "  '0.007*\"bad\" + 0.006*\"time\" + 0.006*\"even\" + 0.006*\"play\" + 0.005*\"well\"'),\n",
      " (5,\n",
      "  '0.006*\"bad\" + 0.006*\"make\" + 0.005*\"get\" + 0.005*\"go\" + 0.005*\"look\" + '\n",
      "  '0.005*\"time\" + 0.004*\"see\" + 0.004*\"ape\" + 0.004*\"even\" + 0.004*\"play\"')]\n"
     ]
    }
   ],
   "source": [
    "from pprint import pprint\n",
    "\n",
    "# Print the Keyword in the topics\n",
    "pprint(lda_model_0.print_topics())"
   ]
  },
  {
   "cell_type": "code",
   "execution_count": 16,
   "id": "046eabcb",
   "metadata": {},
   "outputs": [
    {
     "name": "stdout",
     "output_type": "stream",
     "text": [
      "Coherence Score:  0.270433752420162\n"
     ]
    }
   ],
   "source": [
    "from gensim.models import CoherenceModel\n",
    "\n",
    "# Compute Coherence Score\n",
    "coherence_model_lda = CoherenceModel(model=lda_model_0, texts=data_lemmatized, dictionary=id2word, coherence='c_v')\n",
    "coherence_lda = coherence_model_lda.get_coherence()\n",
    "print('Coherence Score: ', coherence_lda)"
   ]
  },
  {
   "cell_type": "code",
   "execution_count": 17,
   "id": "5396bd1c",
   "metadata": {},
   "outputs": [],
   "source": [
    "#refine the model parameters and choose the number of topic\n",
    "# Let's choose the num of topics\n",
    "def compute_coherence_values(dictionary, corpus, texts, limit, start=2, step=3):\n",
    "    \"\"\"\n",
    "    Compute c_v coherence for various number of topics\n",
    "\n",
    "    Parameters:\n",
    "    ----------\n",
    "    dictionary : Gensim dictionary\n",
    "    corpus : Gensim corpus\n",
    "    texts : List of input texts\n",
    "    limit : Max num of topics\n",
    "\n",
    "    Returns:\n",
    "    -------\n",
    "    model_list : List of LDA topic models\n",
    "    coherence_values : Coherence values corresponding to the LDA model with respective number of topics\n",
    "    \"\"\"\n",
    "    coherence_values = []\n",
    "    model_list = []\n",
    "    for num_topics in range(start, limit, step):\n",
    "        model = gensim.models.LdaMulticore(corpus=corpus,\n",
    "                                       id2word=id2word,\n",
    "                                       num_topics=num_topics,\n",
    "                                       random_state=100,\n",
    "                                       chunksize=100,\n",
    "                                       passes=10,\n",
    "                                       per_word_topics=True,\n",
    "                                       alpha=0.61,\n",
    "                                       eta=0.31,\n",
    "                                       workers=3)\n",
    "        \n",
    "        model_list.append(model)\n",
    "        coherencemodel = CoherenceModel(model=model, texts=texts, dictionary=dictionary, coherence='c_v')\n",
    "        coherence_values.append(coherencemodel.get_coherence())\n",
    "\n",
    "    return model_list, coherence_values"
   ]
  },
  {
   "cell_type": "code",
   "execution_count": 18,
   "id": "58f46635",
   "metadata": {},
   "outputs": [],
   "source": [
    "model_list, coherence_values = compute_coherence_values(dictionary=id2word, corpus=corpus, texts=data_lemmatized, start=1, limit=11, step=1)"
   ]
  },
  {
   "cell_type": "code",
   "execution_count": 19,
   "id": "53a040f5",
   "metadata": {},
   "outputs": [
    {
     "data": {
      "image/png": "[encoded data removed]",
      "text/plain": [
       "<Figure size 640x480 with 1 Axes>"
      ]
     },
     "metadata": {},
     "output_type": "display_data"
    }
   ],
   "source": [
    "import matplotlib.pyplot as plt\n",
    "%matplotlib inline\n",
    "\n",
    "# Show graph\n",
    "limit=11; start=1; step=1;\n",
    "x = range(start, limit, step)\n",
    "plt.plot(x, coherence_values)\n",
    "plt.xlabel(\"Num Topics\")\n",
    "plt.ylabel(\"Coherence score\")\n",
    "plt.legend((\"coherence_values\"), loc='best')\n",
    "plt.show()"
   ]
  },
  {
   "cell_type": "code",
   "execution_count": 20,
   "id": "d98af013",
   "metadata": {},
   "outputs": [
    {
     "name": "stdout",
     "output_type": "stream",
     "text": [
      "Num Topics = 1  has Coherence Value of 0.259\n",
      "Num Topics = 2  has Coherence Value of 0.2636\n",
      "Num Topics = 3  has Coherence Value of 0.2598\n",
      "Num Topics = 4  has Coherence Value of 0.282\n",
      "Num Topics = 5  has Coherence Value of 0.2866\n",
      "Num Topics = 6  has Coherence Value of 0.3857\n",
      "Num Topics = 7  has Coherence Value of 0.4674\n",
      "Num Topics = 8  has Coherence Value of 0.4271\n",
      "Num Topics = 9  has Coherence Value of 0.4928\n",
      "Num Topics = 10  has Coherence Value of 0.4962\n"
     ]
    }
   ],
   "source": [
    "# Print the coherence scores\n",
    "for m, cv in zip(x, coherence_values):\n",
    "    print(\"Num Topics =\", m, \" has Coherence Value of\", round(cv, 4))"
   ]
  },
  {
   "cell_type": "code",
   "execution_count": 27,
   "id": "b085a4f6",
   "metadata": {},
   "outputs": [],
   "source": [
    "#Now choose hyper parameters:\n",
    "\n",
    "# supporting function\n",
    "def compute_coherence_values(corpus, dictionary, k, a, b):\n",
    "    \n",
    "    lda_model = gensim.models.LdaMulticore(corpus=corpus,\n",
    "                                           id2word=dictionary,\n",
    "                                           num_topics=k, \n",
    "                                           random_state=100,\n",
    "                                           chunksize=100,\n",
    "                                           passes=10,\n",
    "                                           alpha=a,\n",
    "                                           eta=b,\n",
    "                                           per_word_topics=True,\n",
    "                                           workers=4)\n",
    "    \n",
    "    coherence_model_lda = CoherenceModel(model=lda_model, texts=data_lemmatized, dictionary=id2word, coherence='c_v')\n",
    "    \n",
    "    return coherence_model_lda.get_coherence()"
   ]
  },
  {
   "cell_type": "code",
   "execution_count": 28,
   "id": "0d313a9b",
   "metadata": {},
   "outputs": [
    {
     "name": "stderr",
     "output_type": "stream",
     "text": [
      "100%|███████████████████████████████████████| 540/540 [2:11:40<00:00, 14.63s/it]\n"
     ]
    }
   ],
   "source": [
    "#Let’s call the function, and iterate it over the range of topics, alpha, and beta parameter values\n",
    "\n",
    "import numpy as np\n",
    "import tqdm\n",
    "\n",
    "grid = {}\n",
    "grid['Validation_Set'] = {}\n",
    "\n",
    "# Topics range\n",
    "min_topics = 2\n",
    "max_topics = 11\n",
    "step_size = 1\n",
    "topics_range = range(min_topics, max_topics, step_size)\n",
    "\n",
    "# Alpha parameter\n",
    "alpha = list(np.arange(0.01, 1, 0.3))\n",
    "alpha.append('symmetric')\n",
    "alpha.append('asymmetric')\n",
    "\n",
    "# Beta parameter\n",
    "beta = list(np.arange(0.01, 1, 0.3))\n",
    "beta.append('symmetric')\n",
    "\n",
    "# Validation sets\n",
    "num_of_docs = len(corpus)\n",
    "corpus_sets = [gensim.utils.ClippedCorpus(corpus, int(num_of_docs*0.75)), \n",
    "               corpus]\n",
    "\n",
    "corpus_title = ['75% Corpus', '100% Corpus']\n",
    "\n",
    "model_results = {'Validation_Set': [],\n",
    "                 'Topics': [],\n",
    "                 'Alpha': [],\n",
    "                 'Beta': [],\n",
    "                 'Coherence': []\n",
    "                }\n",
    "\n",
    "# Can take a long time to run\n",
    "if 1 == 1:\n",
    "    pbar = tqdm.tqdm(total=(len(beta)*len(alpha)*len(topics_range)*len(corpus_title)))\n",
    "    \n",
    "    # iterate through validation corpuses\n",
    "    for i in range(len(corpus_sets)):\n",
    "        # iterate through number of topics\n",
    "        for k in topics_range:\n",
    "            # iterate through alpha values\n",
    "            for a in alpha:\n",
    "                # iterare through beta values\n",
    "                for b in beta:\n",
    "                    # get the coherence score for the given parameters\n",
    "                    cv = compute_coherence_values(corpus=corpus_sets[i], dictionary=id2word, \n",
    "                                                  k=k, a=a, b=b)\n",
    "                    # Save the model results\n",
    "                    model_results['Validation_Set'].append(corpus_title[i])\n",
    "                    model_results['Topics'].append(k)\n",
    "                    model_results['Alpha'].append(a)\n",
    "                    model_results['Beta'].append(b)\n",
    "                    model_results['Coherence'].append(cv)\n",
    "                    \n",
    "                    pbar.update(1)\n",
    "    pd.DataFrame(model_results).to_csv('./lda_tuning_results_q1TEST6.csv', index=False)\n",
    "    pbar.close()"
   ]
  },
  {
   "cell_type": "code",
   "execution_count": 21,
   "id": "bec4678d",
   "metadata": {},
   "outputs": [],
   "source": [
    "#final model estimation where we use the hyperparameters derived above\n",
    "lda_model_final = gensim.models.LdaMulticore(corpus=corpus,\n",
    "                                       id2word=id2word,\n",
    "                                       num_topics=7, \n",
    "                                       random_state=100,\n",
    "                                       chunksize=100,\n",
    "                                       passes=10,\n",
    "                                       per_word_topics=True,\n",
    "                                       alpha=0.61,\n",
    "                                       eta=0.31,\n",
    "                                       workers=3)"
   ]
  },
  {
   "cell_type": "code",
   "execution_count": 22,
   "id": "7318009d",
   "metadata": {},
   "outputs": [
    {
     "name": "stdout",
     "output_type": "stream",
     "text": [
      "[(0,\n",
      "  '0.010*\"scream\" + 0.005*\"series\" + 0.005*\"star_trek\" + 0.004*\"mulan\" + '\n",
      "  '0.003*\"spawn\" + 0.003*\"bat\" + 0.003*\"file\" + 0.003*\"fan\" + 0.002*\"seagal\" + '\n",
      "  '0.002*\"sequel\"'),\n",
      " (1,\n",
      "  '0.012*\"vampire\" + 0.005*\"shrek\" + 0.004*\"blade\" + 0.003*\"grace\" + '\n",
      "  '0.003*\"kiki\" + 0.002*\"sandler\" + 0.002*\"chocolat\" + 0.002*\"booker\" + '\n",
      "  '0.002*\"donkey\" + 0.002*\"blake\"'),\n",
      " (2,\n",
      "  '0.010*\"get\" + 0.008*\"see\" + 0.008*\"go\" + 0.007*\"make\" + 0.006*\"good\" + '\n",
      "  '0.006*\"even\" + 0.006*\"well\" + 0.006*\"time\" + 0.005*\"bad\" + 0.005*\"know\"'),\n",
      " (3,\n",
      "  '0.009*\"make\" + 0.006*\"good\" + 0.006*\"see\" + 0.006*\"get\" + 0.006*\"time\" + '\n",
      "  '0.005*\"well\" + 0.005*\"go\" + 0.004*\"even\" + 0.004*\"play\" + 0.004*\"take\"'),\n",
      " (4,\n",
      "  '0.008*\"get\" + 0.007*\"good\" + 0.006*\"go\" + 0.005*\"bad\" + 0.005*\"play\" + '\n",
      "  '0.005*\"comedy\" + 0.004*\"make\" + 0.004*\"funny\" + 0.004*\"also\" + '\n",
      "  '0.004*\"really\"'),\n",
      " (5,\n",
      "  '0.005*\"ape\" + 0.003*\"dvd\" + 0.003*\"disc\" + 0.002*\"flynt\" + 0.002*\"argento\" '\n",
      "  '+ 0.002*\"vs_larry_flynt\" + 0.002*\"fellini\" + 0.002*\"special_edition\" + '\n",
      "  '0.001*\"rocky_horror\" + 0.001*\"version\"'),\n",
      " (6,\n",
      "  '0.002*\"computer\" + 0.002*\"marcy\" + 0.002*\"lumumba\" + 0.002*\"jackal\" + '\n",
      "  '0.001*\"cannibal\" + 0.001*\"lucinda\" + 0.001*\"tate\" + 0.001*\"rudy\" + '\n",
      "  '0.001*\"costner\" + 0.001*\"webb\"')]\n"
     ]
    }
   ],
   "source": [
    "from pprint import pprint\n",
    "\n",
    "# Print the Keyword in the  topics\n",
    "pprint(lda_model_final.print_topics())"
   ]
  },
  {
   "cell_type": "code",
   "execution_count": 23,
   "id": "90f2790c",
   "metadata": {},
   "outputs": [
    {
     "name": "stdout",
     "output_type": "stream",
     "text": [
      "Coherence Score:  0.4488208257602772\n"
     ]
    }
   ],
   "source": [
    "# Compute Coherence Score\n",
    "coherence_model_lda = CoherenceModel(model=lda_model_final, texts=data_lemmatized, dictionary=id2word, coherence='c_v')\n",
    "coherence_lda = coherence_model_lda.get_coherence()\n",
    "print('Coherence Score: ', coherence_lda)"
   ]
  },
  {
   "cell_type": "code",
   "execution_count": 24,
   "id": "d6ba0357",
   "metadata": {},
   "outputs": [],
   "source": [
    "#visualize the topics\n",
    "import pyLDAvis\n",
    "import pyLDAvis.gensim\n",
    "import matplotlib.pyplot as plt\n",
    "%matplotlib inline"
   ]
  },
  {
   "cell_type": "code",
   "execution_count": 25,
   "id": "3c395ccd",
   "metadata": {},
   "outputs": [
    {
     "data": {
      "text/html": [
       "\n",
       "<link rel=\"stylesheet\" type=\"text/css\" href=\"https://cdn.jsdelivr.net/gh/bmabey/pyLDAvis@3.4.0/pyLDAvis/js/ldavis.v1.0.0.css\">\n",
       "\n",
       "\n",
       "<div id=\"ldavis_el29465137530252481181674986\" style=\"background-color:white;\"></div>\n",
       "<script type=\"text/javascript\">\n",
       "\n",
       "var ldavis_el29465137530252481181674986_data = {\"mdsDat\": {\"x\": [-0.235515076363976, -0.2025239276383511, -0.08396023524034334, 0.09238261895189624, 0.1412510260593707, 0.1424976919665463, 0.14586790226485738], \"y\": [0.028219006085848642, -0.007462990265179949, -0.02004699106281565, -0.07417208577143164, 0.0993847816799217, -0.01381912390764299, -0.012102596758700004], \"topics\": [1, 2, 3, 4, 5, 6, 7], \"cluster\": [1, 1, 1, 1, 1, 1, 1], \"Freq\": [70.3649347305049, 20.373285624983232, 4.7216877308638345, 1.5973741142321505, 1.4121535824882407, 0.8668110179472065, 0.6637531989804266]}, \"tinfo\": {\"Term\": [\"get\", \"good\", \"go\", \"bad\", \"play\", \"make\", \"see\", \"really\", \"comedy\", \"funny\", \"even\", \"also\", \"well\", \"series\", \"time\", \"scream\", \"think\", \"try\", \"know\", \"big\", \"laugh\", \"horror\", \"girl\", \"say\", \"performance\", \"first\", \"fun\", \"guy\", \"give\", \"star\", \"soldier\", \"titanic\", \"prison\", \"political\", \"reality\", \"truman\", \"fascinating\", \"war\", \"ship\", \"contrast\", \"intense\", \"angel\", \"tragedy\", \"derek\", \"matrix\", \"flaw\", \"freedom\", \"shakespeare\", \"perspective\", \"science_fiction\", \"compelling\", \"powerful\", \"extraordinary\", \"scorsese\", \"bulworth\", \"beautifully\", \"whale\", \"moral\", \"edge\", \"cameron\", \"image\", \"criminal\", \"complex\", \"death\", \"life\", \"novel\", \"murder\", \"effective\", \"society\", \"sense\", \"view\", \"american\", \"become\", \"create\", \"world\", \"relationship\", \"performance\", \"man\", \"thriller\", \"seem\", \"perhaps\", \"make\", \"work\", \"way\", \"role\", \"happen\", \"many\", \"set\", \"rather\", \"however\", \"great\", \"time\", \"audience\", \"begin\", \"take\", \"love\", \"good\", \"give\", \"find\", \"well\", \"much\", \"also\", \"never\", \"action\", \"people\", \"see\", \"play\", \"end\", \"get\", \"go\", \"even\", \"come\", \"look\", \"first\", \"know\", \"thing\", \"tarzan\", \"deep_impact\", \"paulie\", \"wild_thing\", \"mike_myer\", \"porter\", \"ellie\", \"twister\", \"gorilla\", \"comet\", \"sleepy_hollow\", \"albert_brook\", \"tango\", \"tswsm\", \"palmetto\", \"big_lebowski\", \"barlow\", \"simon_birch\", \"species_ii\", \"wcw\", \"anastasia\", \"asteroid\", \"taran\", \"wrestle\", \"nello\", \"shag\", \"wrestler\", \"hulot\", \"phantom_menace\", \"tornado\", \"disney\", \"muppet\", \"dude\", \"specie\", \"woody\", \"austin_power\", \"joke\", \"buzz\", \"sonny\", \"laugh\", \"toy\", \"blair_witch\", \"animation\", \"funny\", \"kid\", \"roommate\", \"comedy\", \"voice\", \"bad\", \"cute\", \"planet\", \"get\", \"humor\", \"stupid\", \"song\", \"go\", \"see\", \"original\", \"even\", \"think\", \"really\", \"know\", \"say\", \"fun\", \"well\", \"good\", \"first\", \"time\", \"come\", \"make\", \"thing\", \"back\", \"play\", \"look\", \"watch\", \"take\", \"much\", \"want\", \"also\", \"give\", \"end\", \"show\", \"way\", \"flubber\", \"tarantino\", \"fingernail\", \"football\", \"reservoir_dog\", \"jackie_brown\", \"robert_forster\", \"spice_girl\", \"ordell\", \"kenneth_william\", \"romy\", \"dusk_till_dawn\", \"kimble\", \"varsity_blue\", \"grier\", \"snipe\", \"ali_larter\", \"dawson_creek\", \"camembert\", \"ambrose\", \"fichtner\", \"thompson\", \"finch\", \"bondsman\", \"casey\", \"faculty\", \"haunted_hill\", \"ffe\", \"nookey\", \"summer_catch\", \"kudrow\", \"exorcist\", \"coach\", \"stallone\", \"bate\", \"slasher\", \"teen\", \"fugitive\", \"double_jeopardy\", \"pulp_fiction\", \"spoof\", \"high_school\", \"comedy\", \"shark\", \"funny\", \"bad\", \"get\", \"scream\", \"good\", \"go\", \"plane\", \"fun\", \"play\", \"girl\", \"laugh\", \"really\", \"sex\", \"try\", \"big\", \"also\", \"make\", \"horror\", \"think\", \"guy\", \"pretty\", \"well\", \"even\", \"time\", \"star\", \"performance\", \"see\", \"give\", \"know\", \"seem\", \"little\", \"seagal\", \"nbsp\", \"mulder\", \"dussander\", \"craven\", \"picard\", \"insurrection\", \"gale_weather\", \"trekkie\", \"mulan\", \"hun\", \"brigg\", \"greenfinger\", \"ba_ku\", \"stargher\", \"osmosis_jone\", \"weird_al\", \"galaxy_qu\", \"renfro\", \"stahl\", \"star_trek\", \"blade_squad\", \"rimbaud\", \"cappie\", \"eruption\", \"hershman\", \"ru_afro\", \"ness\", \"silently\", \"winter_gu\", \"stigmata\", \"spawn\", \"batgirl\", \"snake\", \"enterprise\", \"bat\", \"scream\", \"datum\", \"file\", \"trek\", \"scully\", \"batman\", \"dogma\", \"series\", \"mickey\", \"stab\", \"sidney\", \"mars_attack\", \"fan\", \"green_mile\", \"cell\", \"sequel\", \"television\", \"horror\", \"todd\", \"connor\", \"contact\", \"killer\", \"alien\", \"reference\", \"vampire\", \"shrek\", \"kiki\", \"sandler\", \"booker\", \"chocolat\", \"donkey\", \"blake\", \"toback\", \"bresson\", \"gile\", \"tulip\", \"redford\", \"rohmer\", \"rosalba\", \"chucky\", \"pollock\", \"lancelot\", \"hallstrom\", \"valek\", \"boorman\", \"bubby\", \"vianne\", \"horse_whisper\", \"fernando\", \"muriel\", \"granger\", \"tandy\", \"gauge\", \"zardoz\", \"spencer\", \"blade\", \"bachelor\", \"carpenter\", \"ogre\", \"grace\", \"knight\", \"bread\", \"wedding\", \"horse\", \"mob\", \"marriage\", \"woman\", \"flynt\", \"vs_larry_flynt\", \"argento\", \"fellini\", \"patlabor\", \"geronimo\", \"humbert\", \"tenebrae\", \"big_momma\", \"double_team\", \"heyst\", \"tomb_raider\", \"wing_commander\", \"rigormortis\", \"musketeer\", \"dune\", \"dolby_digital\", \"roxbury\", \"rylance\", \"amarcord\", \"larry_flynt\", \"groove\", \"ayla\", \"cave_bear\", \"watchers_reborn\", \"kathy\", \"duma\", \"kitty\", \"leasure\", \"rimini\", \"dvd\", \"disc\", \"cindy\", \"mr_anderson\", \"david_lynch\", \"rocky_horror\", \"ape\", \"special_edition\", \"audio\", \"martin_lawrence\", \"hustler\", \"home_video\", \"lynch\", \"blue_velvet\", \"version\", \"planet\", \"boogie_night\", \"quinn\", \"delete\", \"magazine\", \"marcy\", \"tate\", \"webb\", \"lucinda\", \"grinch\", \"paradine\", \"troma\", \"postman\", \"lesly\", \"supergirl\", \"sayle\", \"real_blonde\", \"lumumba\", \"autistic\", \"brean\", \"fail_safe\", \"groeteschele\", \"cannibal\", \"gridlock\", \"furtwangler\", \"motss\", \"jeffrie\", \"fuente\", \"ronin\", \"tibb\", \"tibbs\", \"nuclear_war\", \"patrice\", \"shakur\", \"domingo\", \"garofalo\", \"rudy\", \"deedle\", \"jackal\", \"costner\", \"computer\", \"mercury_rise\", \"cusack\", \"irish\", \"disc\"], \"Freq\": [3356.0, 3147.0, 2821.0, 1338.0, 2166.0, 4020.0, 3048.0, 1443.0, 751.0, 769.0, 2333.0, 1958.0, 2687.0, 320.0, 2764.0, 261.0, 1213.0, 1182.0, 1707.0, 962.0, 583.0, 445.0, 577.0, 1439.0, 1306.0, 1681.0, 546.0, 730.0, 1809.0, 799.0, 150.8079832363832, 135.94510872115157, 166.9756296655758, 163.54719838191707, 190.72374984542571, 94.19832691145066, 96.03285111173052, 275.60903177670417, 258.60452626757365, 87.72409995483261, 98.61698935576699, 127.6029794052403, 74.29200670319082, 74.15050016070487, 92.82214845504055, 185.34623458965052, 74.86927980353238, 70.6155670055561, 66.95402189142104, 142.5399588729643, 81.00312846404147, 188.05176928867664, 65.68948081810498, 57.93558889314581, 56.97078464767849, 60.458964915773386, 60.42175245474203, 120.06411236438048, 117.7110028157869, 52.20231013775414, 230.76480587256378, 108.48068063520172, 136.2903132249466, 428.46788130553114, 1559.3760526722774, 217.04350812476386, 320.778560077364, 203.1857113582539, 137.34005872568872, 493.88932894738264, 391.6971062690817, 232.06701802996201, 1081.5855446995058, 492.27898609374023, 846.8806122063843, 380.728165434102, 1157.121913061776, 1508.8142051903876, 243.34101785331055, 1463.5257975286916, 413.43882526111366, 3176.632296839421, 1312.7416306939945, 1467.6408621790104, 896.9419419550326, 553.9630611661106, 1065.1738361477048, 758.1795011669756, 529.3584251090512, 809.1974972683521, 1045.670453619383, 2087.3838648935894, 810.2237889995877, 732.9455062963483, 1561.9880282689342, 910.9273425861969, 2311.354202265053, 1410.1611019357808, 1232.326792949167, 1984.8801198415983, 1470.0291150520804, 1497.958789558967, 1053.5731900556414, 823.0972313798821, 1117.1381742503395, 2140.682604092399, 1579.8136610207937, 1187.032327196939, 2139.3764456436334, 1865.5335179074164, 1605.681536941583, 1318.3851259879468, 1243.5067857127474, 1205.0058285529083, 1157.2374434079761, 1046.8482829391348, 89.46196326762494, 46.57420111667928, 35.06837805186225, 40.44668224607817, 40.23533226709187, 31.888067317512878, 30.823069091285763, 42.58406236013024, 27.570431824823036, 25.050704034730195, 26.832596819281857, 29.465960736299564, 21.89917444889269, 20.637707826799314, 21.33807329741895, 20.789611764063135, 20.580505294131974, 21.1378420443143, 19.28850965549478, 18.796503333138936, 20.071659529411836, 19.263803262933706, 18.2389473274261, 27.2850445029642, 17.482657800049413, 18.45362319664279, 18.33398379153047, 16.947098373826922, 103.75188997073757, 16.225323063869002, 211.40227915058966, 22.0382303208793, 115.1636524129663, 50.5860214659002, 73.25918955423165, 44.70775907621491, 252.67518726206472, 45.30706781995937, 33.91955627464735, 393.26494623526514, 122.19252768138332, 28.198750236928063, 104.74309790257722, 437.68270744726846, 278.39891313227525, 45.21197576994586, 368.5104903914192, 197.84633349665097, 566.1897697024588, 85.87987758198929, 117.46303148300379, 1012.3663499346711, 195.8812604366243, 111.78150924251835, 141.24470921199713, 806.1226160865001, 838.8436444287344, 279.12731088568637, 651.0448963445466, 402.6640540792407, 446.8556671080014, 491.76097850531085, 434.56248508070274, 225.93023706907726, 625.0124092776825, 665.2707880803264, 444.734755863586, 599.5973951944285, 456.49317674007955, 728.8471346054675, 405.3452218781215, 276.4276638601216, 463.028696183791, 404.1079289502932, 317.37446797129047, 413.74743967510057, 402.7451106871956, 312.2380335082865, 368.65755835458754, 339.90711796941423, 309.3056668097759, 296.2788990108795, 297.4987750205096, 24.59677434671465, 76.11060557231146, 18.077425101364774, 35.564813507341995, 20.589582782589833, 50.14259551866155, 14.831116811211764, 14.298315730754796, 19.691413331865977, 13.640435379065913, 12.195650489867406, 12.716466530465079, 11.348988941546134, 11.01968161381779, 11.675568037341858, 13.390020617548597, 10.228347635743901, 9.406169320943865, 8.782748284861418, 8.702854460393901, 8.039006638124174, 8.857372442036208, 7.876703318873518, 7.894681594358142, 9.261031962580896, 11.27047640974125, 7.772832257730609, 7.068631365928655, 7.030199939297551, 7.195856292809572, 8.348428361380373, 14.474233728928382, 29.97554515170118, 22.72303582024464, 10.905858088547127, 27.7800570438849, 66.27662057022748, 24.03953369017293, 12.69376466349166, 37.27097189031182, 22.969303840991337, 23.59483188515606, 118.90113419623765, 16.151065765709596, 107.18456610046873, 131.7627123200212, 199.90307887363286, 52.81569025608392, 167.93527742222508, 147.83065289526755, 28.74906891580979, 64.70509027025373, 119.98576241111189, 65.96395889262737, 61.331277931904566, 86.61635399088729, 50.13177419997813, 75.98965872793656, 68.78772188462868, 89.24242465934303, 109.01320864213436, 51.1807893978096, 69.56430895321368, 55.86320261995261, 47.96787689948236, 74.43145754430937, 71.28039832944086, 72.97888159193708, 54.284864622669566, 57.6400402455084, 65.63076533735598, 56.93098049573411, 56.04348349899221, 53.844929350882296, 52.56448679792711, 17.293847510335528, 13.486332915686582, 12.204861809566214, 8.505768389282165, 7.954055522789496, 7.69962827103181, 7.668188474225967, 7.461208803070979, 7.723216471912972, 33.69998333874039, 6.515908420403489, 6.115526905781447, 6.115526905781447, 5.78701698456913, 5.598634370888638, 5.566375710834451, 5.261113564209041, 5.792452667574838, 4.915123745494983, 4.83130042894371, 42.18044299424881, 4.5909153986380975, 4.19644848822378, 4.3028740768722855, 3.9693185343612627, 3.7213906161858588, 3.5437282831628596, 6.364081682901251, 3.533412107402316, 3.4996091807017864, 8.034196133838908, 28.348299915829916, 4.104856382143724, 16.093690347997118, 15.404237516263773, 23.810801906266175, 82.61822102855344, 11.235098190009428, 22.189642499734937, 10.605314388116913, 7.591965913172028, 15.778948563908926, 9.570156959699831, 44.41163663512647, 10.199555300240672, 13.2208110596221, 7.156918057791622, 8.710905497066399, 21.786947732754918, 8.052035827552073, 10.536697425039602, 16.323635477196266, 14.5559823556075, 15.870043347365653, 9.355639969526239, 8.7755061078186, 10.464496058790065, 9.994861763559621, 9.435333619736962, 8.69709668311622, 90.05307780561094, 33.76241760163903, 20.890752856757683, 18.174723624168962, 14.562373904655763, 14.658228441437181, 12.447820460157448, 12.191710056158675, 10.719972098193136, 9.707338277513552, 9.48770181162229, 8.222194862999906, 7.825821618280222, 7.582109784650812, 7.581782717881866, 8.154179530386697, 6.607441395040789, 6.514170856973184, 5.890672002309976, 5.69632584589805, 5.578249605134416, 5.528920316235466, 5.443323860497852, 6.630616472968608, 6.524159664459834, 4.386168289944521, 6.96812454884398, 4.359697714651073, 8.447501057016705, 4.100508002708551, 9.37454955250317, 26.228506499425407, 7.760751598978982, 9.740098038543355, 7.372322994440039, 25.393991357482825, 8.333049948974837, 7.441737350876433, 10.168111140277711, 9.416623866882073, 8.021907564415962, 8.240092778544494, 9.729851944239773, 10.431472158389639, 7.997781453534755, 8.523488316337243, 7.688066930880216, 4.62887285272274, 3.9927743546278633, 3.5874406701543444, 3.0654476193233187, 2.941710120986522, 2.977067145566171, 2.8237636782095556, 2.818867111855899, 3.789884809805254, 2.738564106873306, 4.3444799425492056, 4.3870354504760725, 2.8970453108099603, 4.613993955004766, 2.376960013103736, 2.374619205275123, 2.3672325743745497, 2.465905717848686, 2.3289976280011233, 2.3289976280011233, 2.116089225962358, 2.116699523019155, 2.028379750497797, 2.8786100038921156, 1.9991183387605738, 1.9221135656438129, 12.938568788851544, 11.36615136372613, 4.2586612711630885, 4.477410918960974, 4.878936717686353, 6.753895934158512, 22.80411202661489, 7.486006444061567, 3.8842358150704746, 4.702347100067012, 4.673564203266465, 5.012350150673485, 4.003124572269691, 3.068189160418505, 5.336209375146454, 5.08909385592117, 4.192973862434138, 3.1626329255808403, 3.1836352903879668, 3.1912431786068707, 5.66657419561614, 4.855534738607728, 4.405746351745817, 4.90826885755355, 3.482475705397817, 3.480356875325015, 3.264832619327117, 3.204818820003914, 3.172363896917269, 3.275532811803982, 3.1280077085423104, 3.109289364048255, 5.525534966023664, 3.002355853545963, 3.0009863609082146, 2.866365194373867, 2.866365194373867, 4.959331253779063, 2.84590429827198, 2.7328821192822317, 2.5804422558564397, 2.7499738139844037, 2.2847028762087525, 3.2736749620354937, 2.243166160481477, 2.243166160481477, 2.0478760274143304, 1.9455574616147648, 1.9272246516334817, 1.773806665417197, 4.35160048429185, 4.456547566448586, 3.745445657552042, 5.421676475575746, 4.421118634959661, 7.331579439841033, 2.737661459442649, 3.635014970728259, 3.49030913889584, 3.151707014064109], \"Total\": [3356.0, 3147.0, 2821.0, 1338.0, 2166.0, 4020.0, 3048.0, 1443.0, 751.0, 769.0, 2333.0, 1958.0, 2687.0, 320.0, 2764.0, 261.0, 1213.0, 1182.0, 1707.0, 962.0, 583.0, 445.0, 577.0, 1439.0, 1306.0, 1681.0, 546.0, 730.0, 1809.0, 799.0, 152.0230164161766, 137.12995456781294, 168.68904601331863, 165.36140447226396, 192.84867398555906, 95.29405061294791, 97.19793272783787, 279.04085694228405, 261.9536786413879, 88.87891181580186, 100.05981021007887, 129.47263443174836, 75.4636032981875, 75.33966397149256, 94.32976322905765, 188.41681927219804, 76.1339528392953, 71.84589979564842, 68.13110627021302, 145.11427864425713, 82.47309566248865, 191.50874307630764, 66.89970760599137, 59.03929048787376, 58.077169945930734, 61.69484770125654, 61.66269750422164, 122.53956690442863, 120.16621955765565, 53.3169635808513, 236.79205558696225, 110.92126434043084, 139.73400471754562, 445.5671851786655, 1675.791267056634, 224.20627854043042, 334.3067370299706, 210.32851722121586, 141.30740513599414, 529.6948980319373, 417.4368785910354, 243.69736760819717, 1199.5473346136139, 529.9708622384896, 933.3278888710449, 407.1746323413351, 1306.6493811324399, 1746.8675915043802, 257.6249546916861, 1719.9556345684202, 452.4819015278191, 4020.1440451211024, 1577.1013346542966, 1796.8902239295346, 1055.1814139556564, 626.2682580414241, 1280.9206756469202, 884.7813490958698, 598.0747734603979, 958.0558460301535, 1277.2300799751536, 2764.4257965412557, 966.2572549560923, 865.6164996684217, 2012.572284555427, 1105.1034214814738, 3147.5150965851926, 1809.5549152920203, 1554.2680241651856, 2687.916247206645, 1914.5758307125147, 1958.8601766969673, 1308.9326807809018, 988.4489636426721, 1413.5369062592206, 3048.3200464084375, 2166.956303338798, 1534.214556296243, 3356.9281854878755, 2821.9210253186193, 2333.5403829115935, 1806.5959725929147, 1688.3514786483688, 1681.9432292417598, 1707.9028598685582, 1490.5514369471418, 90.52771724717816, 47.84881764473135, 36.146555144107325, 41.82232297978235, 41.63483576814748, 32.998882970182045, 31.915643515754162, 44.22438783461209, 28.649583311019178, 26.122853949460637, 28.010226611052925, 30.805234454532773, 22.966413694408804, 21.706990403031632, 22.44862108329007, 21.88812501106761, 21.67250173063995, 22.276858054564247, 20.378536611873827, 19.86053694623048, 21.215079947880984, 20.366575472883692, 19.312012722234737, 28.940565051831026, 18.553285295625106, 19.587696404997697, 19.469275159116687, 18.022638177577612, 110.65221089484285, 17.30898162249014, 226.72164361065182, 23.528203064670436, 130.1982064630023, 55.98712734257946, 83.25297462832533, 49.96058494700249, 342.97439173076884, 51.897105987828354, 37.910793379155784, 583.9331230008595, 163.83997339730146, 31.115512102539665, 140.65089727332554, 769.7062680259536, 452.5435488453093, 56.22202759903312, 751.1395488524255, 353.6245667013015, 1338.612777147574, 127.60495030644692, 191.7345365363879, 3356.9281854878755, 388.05479004578655, 184.3940523342172, 252.62110475921745, 2821.9210253186193, 3048.3200464084375, 667.3011194809351, 2333.5403829115935, 1213.8676590693315, 1443.293928267138, 1707.9028598685582, 1439.9058472554602, 546.924752429325, 2687.916247206645, 3147.5150965851926, 1681.9432292417598, 2764.4257965412557, 1806.5959725929147, 4020.1440451211024, 1490.5514369471418, 802.7002589448575, 2166.956303338798, 1688.3514786483688, 1120.5394503263517, 2012.572284555427, 1914.5758307125147, 1155.0428878310415, 1958.8601766969673, 1809.5549152920203, 1534.214556296243, 1315.3659640775097, 1796.8902239295346, 26.053887325960684, 80.94066958709126, 19.330409109744682, 38.0501268721664, 22.13898055850408, 54.078319659331605, 16.009698665436407, 15.442842838690158, 21.303132572634354, 14.827646160937563, 13.347148315311383, 14.03535963480514, 12.542311142834132, 12.216382073081075, 12.950591879247213, 14.975853374087658, 11.452151490945159, 10.552584311550001, 9.9261882116683, 9.893046681816559, 9.191833759613292, 10.142401302265602, 9.025003089322455, 9.101205218289358, 10.68575584343441, 13.032298377318941, 9.008966625316226, 8.212143679602883, 8.170462981587553, 8.39585926474105, 9.760298082909872, 17.324049762136884, 37.11127332932495, 30.27494086763155, 13.590871317995331, 44.79530114494237, 140.72453014138367, 39.276807673647724, 17.31718658790334, 87.0812125740196, 42.86904583115919, 50.40119230019927, 751.1395488524255, 26.890669252090373, 769.7062680259536, 1338.612777147574, 3356.9281854878755, 261.17061157841994, 3147.5150965851926, 2821.9210253186193, 91.26774735601887, 546.924752429325, 2166.956303338798, 577.8031569123661, 583.9331230008595, 1443.293928267138, 395.1179339914167, 1182.3417918810103, 962.4678204537046, 1958.8601766969673, 4020.1440451211024, 445.4222414175784, 1213.8676590693315, 730.4111532677739, 437.98766728714014, 2687.916247206645, 2333.5403829115935, 2764.4257965412557, 799.654470506194, 1306.6493811324399, 3048.3200464084375, 1809.5549152920203, 1707.9028598685582, 1719.9556345684202, 1304.506060484072, 18.5521669344761, 14.697940366952178, 13.454030113971982, 9.74024382997157, 9.186659691794231, 8.91814471613969, 8.890976486942325, 8.687664074272648, 9.014904341670762, 39.55193627286953, 7.761891060312362, 7.35132838806484, 7.35132838806484, 7.00329275030251, 6.826746007681299, 6.788179272705211, 6.5348766924068435, 7.2132392467242665, 6.150065050731109, 6.093494833883093, 53.248303870277276, 5.817501370237407, 5.41065860095393, 5.660656405126478, 5.255126469068434, 4.958001928801476, 4.765136802231292, 8.632401079471181, 4.796557195845874, 4.758591806755209, 11.14641759536429, 42.02552960334164, 5.615547548236509, 27.895534734072648, 26.49805563542028, 44.58340530569405, 261.17061157841994, 19.854526734113755, 57.62634212389294, 20.20722310591831, 12.457474232866263, 41.57838976125303, 18.550502816266953, 320.6533299104606, 21.05684975085809, 36.437069374392564, 11.477489223509282, 19.048141846373642, 306.5015041076745, 16.419148338269046, 42.04155344483486, 228.4041442825729, 162.13667012635415, 445.4222414175784, 28.77019574065713, 24.79879619291856, 113.57346918098206, 176.25690139614824, 444.86854022574835, 95.0710075083864, 91.4122928375862, 35.02559968813632, 22.21822726734645, 19.523787760699587, 15.810326266672645, 15.974217454237715, 13.69714554706572, 13.439865083377615, 11.987782339626142, 10.948432710745552, 10.850249313093673, 9.482015377497058, 9.067649341353711, 8.82123401091229, 8.821343180098449, 9.595745411641408, 7.843876130940442, 7.75548940830125, 7.133593307728944, 6.937012605120405, 6.818197578548565, 6.765724624455816, 6.69182224824373, 8.156791818776425, 8.061702014967626, 5.628092396101167, 8.942515891617152, 5.632068020162699, 10.933972736488666, 5.334653651622853, 12.637417757177667, 43.1979509847768, 11.371190001745628, 16.149251572609757, 10.947561294165647, 89.12626476490877, 17.38646942378522, 17.28803272028912, 93.75096362154271, 71.78203668673643, 53.26696394559947, 86.67243562394246, 732.2066219918605, 11.69460488956722, 9.32088584347791, 9.948202604099297, 9.699078218612506, 5.901460727039642, 5.339948260695691, 4.9795027983343205, 4.3297755506031095, 4.210862574400281, 4.277607421989268, 4.0800224176863304, 4.083233245472938, 5.624667658352823, 4.066078302631156, 6.510186205221235, 6.593488922263906, 4.41800548908637, 7.059763478810414, 3.6372520280723277, 3.637858017298095, 3.6338351885766076, 3.7975721561265896, 3.594636218475714, 3.594636218475714, 3.3892526762954978, 3.410965357060496, 3.2852772650114748, 4.697846849283147, 3.264223905940572, 3.185404469366543, 22.766077072198634, 21.037796909381356, 7.35394640363075, 7.887929681992255, 9.048749539395434, 14.642249403570005, 82.19352750406021, 18.470688263354415, 7.392154597642722, 11.106182991822289, 15.170217712340666, 24.69843236666882, 14.493197678874544, 6.4394767182640384, 262.9794473087441, 191.7345365363879, 64.86184813252375, 9.648123363058899, 11.618061790677471, 49.158816437862356, 6.974874853617118, 6.180213572169631, 5.688400890648233, 6.396707750832313, 4.765636710371732, 4.775577549541096, 4.574420440946432, 4.492392950653281, 4.456715349439156, 4.614947144365998, 4.413110968296298, 4.392387551066083, 7.844997779432948, 4.282641490843945, 4.30635116752204, 4.14757098356214, 4.14757098356214, 7.24232545882645, 4.170875561550441, 4.0182808727503705, 3.8830081441159217, 4.156754191979804, 3.5683868451580016, 5.134678810624306, 3.5357352622359057, 3.5357352622359057, 3.343318198852816, 3.222987351199304, 3.23868349212166, 3.0685595837748103, 8.05229309707364, 8.844437544833323, 7.558951212863505, 15.72776630147348, 22.011313426318843, 137.7496913346431, 6.951445012145044, 27.83579040471738, 34.11524425087512, 21.037796909381356], \"Category\": [\"Default\", \"Default\", \"Default\", \"Default\", \"Default\", \"Default\", \"Default\", \"Default\", \"Default\", \"Default\", \"Default\", \"Default\", \"Default\", \"Default\", \"Default\", \"Default\", \"Default\", \"Default\", \"Default\", \"Default\", \"Default\", \"Default\", \"Default\", \"Default\", \"Default\", \"Default\", \"Default\", \"Default\", \"Default\", \"Default\", \"Topic1\", \"Topic1\", \"Topic1\", \"Topic1\", \"Topic1\", \"Topic1\", \"Topic1\", \"Topic1\", \"Topic1\", \"Topic1\", \"Topic1\", \"Topic1\", \"Topic1\", \"Topic1\", \"Topic1\", \"Topic1\", \"Topic1\", \"Topic1\", \"Topic1\", \"Topic1\", \"Topic1\", \"Topic1\", \"Topic1\", \"Topic1\", \"Topic1\", \"Topic1\", \"Topic1\", \"Topic1\", \"Topic1\", \"Topic1\", \"Topic1\", \"Topic1\", \"Topic1\", \"Topic1\", \"Topic1\", \"Topic1\", \"Topic1\", \"Topic1\", \"Topic1\", \"Topic1\", \"Topic1\", \"Topic1\", \"Topic1\", \"Topic1\", \"Topic1\", \"Topic1\", \"Topic1\", \"Topic1\", \"Topic1\", \"Topic1\", \"Topic1\", \"Topic1\", \"Topic1\", \"Topic1\", \"Topic1\", \"Topic1\", \"Topic1\", \"Topic1\", \"Topic1\", \"Topic1\", \"Topic1\", \"Topic1\", \"Topic1\", \"Topic1\", \"Topic1\", \"Topic1\", \"Topic1\", \"Topic1\", \"Topic1\", \"Topic1\", \"Topic1\", \"Topic1\", \"Topic1\", \"Topic1\", \"Topic1\", \"Topic1\", \"Topic1\", \"Topic1\", \"Topic1\", \"Topic1\", \"Topic1\", \"Topic1\", \"Topic1\", \"Topic1\", \"Topic1\", \"Topic1\", \"Topic2\", \"Topic2\", \"Topic2\", \"Topic2\", \"Topic2\", \"Topic2\", \"Topic2\", \"Topic2\", \"Topic2\", \"Topic2\", \"Topic2\", \"Topic2\", \"Topic2\", \"Topic2\", \"Topic2\", \"Topic2\", \"Topic2\", \"Topic2\", \"Topic2\", \"Topic2\", \"Topic2\", \"Topic2\", \"Topic2\", \"Topic2\", \"Topic2\", \"Topic2\", \"Topic2\", \"Topic2\", \"Topic2\", \"Topic2\", \"Topic2\", \"Topic2\", \"Topic2\", \"Topic2\", \"Topic2\", \"Topic2\", \"Topic2\", \"Topic2\", \"Topic2\", \"Topic2\", \"Topic2\", \"Topic2\", \"Topic2\", \"Topic2\", \"Topic2\", \"Topic2\", \"Topic2\", \"Topic2\", \"Topic2\", \"Topic2\", \"Topic2\", \"Topic2\", \"Topic2\", \"Topic2\", \"Topic2\", \"Topic2\", \"Topic2\", \"Topic2\", \"Topic2\", \"Topic2\", \"Topic2\", \"Topic2\", \"Topic2\", \"Topic2\", \"Topic2\", \"Topic2\", \"Topic2\", \"Topic2\", \"Topic2\", \"Topic2\", \"Topic2\", \"Topic2\", \"Topic2\", \"Topic2\", \"Topic2\", \"Topic2\", \"Topic2\", \"Topic2\", \"Topic2\", \"Topic2\", \"Topic2\", \"Topic2\", \"Topic2\", \"Topic3\", \"Topic3\", \"Topic3\", \"Topic3\", \"Topic3\", \"Topic3\", \"Topic3\", \"Topic3\", \"Topic3\", \"Topic3\", \"Topic3\", \"Topic3\", \"Topic3\", \"Topic3\", \"Topic3\", \"Topic3\", \"Topic3\", \"Topic3\", \"Topic3\", \"Topic3\", \"Topic3\", \"Topic3\", \"Topic3\", \"Topic3\", \"Topic3\", \"Topic3\", \"Topic3\", \"Topic3\", \"Topic3\", \"Topic3\", \"Topic3\", \"Topic3\", \"Topic3\", \"Topic3\", \"Topic3\", \"Topic3\", \"Topic3\", \"Topic3\", \"Topic3\", \"Topic3\", \"Topic3\", \"Topic3\", \"Topic3\", \"Topic3\", \"Topic3\", \"Topic3\", \"Topic3\", \"Topic3\", \"Topic3\", \"Topic3\", \"Topic3\", \"Topic3\", \"Topic3\", \"Topic3\", \"Topic3\", \"Topic3\", \"Topic3\", \"Topic3\", \"Topic3\", \"Topic3\", \"Topic3\", \"Topic3\", \"Topic3\", \"Topic3\", \"Topic3\", \"Topic3\", \"Topic3\", \"Topic3\", \"Topic3\", \"Topic3\", \"Topic3\", \"Topic3\", \"Topic3\", \"Topic3\", \"Topic3\", \"Topic4\", \"Topic4\", \"Topic4\", \"Topic4\", \"Topic4\", \"Topic4\", \"Topic4\", \"Topic4\", \"Topic4\", \"Topic4\", \"Topic4\", \"Topic4\", \"Topic4\", \"Topic4\", \"Topic4\", \"Topic4\", \"Topic4\", \"Topic4\", \"Topic4\", \"Topic4\", \"Topic4\", \"Topic4\", \"Topic4\", \"Topic4\", \"Topic4\", \"Topic4\", \"Topic4\", \"Topic4\", \"Topic4\", \"Topic4\", \"Topic4\", \"Topic4\", \"Topic4\", \"Topic4\", \"Topic4\", \"Topic4\", \"Topic4\", \"Topic4\", \"Topic4\", \"Topic4\", \"Topic4\", \"Topic4\", \"Topic4\", \"Topic4\", \"Topic4\", \"Topic4\", \"Topic4\", \"Topic4\", \"Topic4\", \"Topic4\", \"Topic4\", \"Topic4\", \"Topic4\", \"Topic4\", \"Topic4\", \"Topic4\", \"Topic4\", \"Topic4\", \"Topic4\", \"Topic4\", \"Topic5\", \"Topic5\", \"Topic5\", \"Topic5\", \"Topic5\", \"Topic5\", \"Topic5\", \"Topic5\", \"Topic5\", \"Topic5\", \"Topic5\", \"Topic5\", \"Topic5\", \"Topic5\", \"Topic5\", \"Topic5\", \"Topic5\", \"Topic5\", \"Topic5\", \"Topic5\", \"Topic5\", \"Topic5\", \"Topic5\", \"Topic5\", \"Topic5\", \"Topic5\", \"Topic5\", \"Topic5\", \"Topic5\", \"Topic5\", \"Topic5\", \"Topic5\", \"Topic5\", \"Topic5\", \"Topic5\", \"Topic5\", \"Topic5\", \"Topic5\", \"Topic5\", \"Topic5\", \"Topic5\", \"Topic5\", \"Topic5\", \"Topic6\", \"Topic6\", \"Topic6\", \"Topic6\", \"Topic6\", \"Topic6\", \"Topic6\", \"Topic6\", \"Topic6\", \"Topic6\", \"Topic6\", \"Topic6\", \"Topic6\", \"Topic6\", \"Topic6\", \"Topic6\", \"Topic6\", \"Topic6\", \"Topic6\", \"Topic6\", \"Topic6\", \"Topic6\", \"Topic6\", \"Topic6\", \"Topic6\", \"Topic6\", \"Topic6\", \"Topic6\", \"Topic6\", \"Topic6\", \"Topic6\", \"Topic6\", \"Topic6\", \"Topic6\", \"Topic6\", \"Topic6\", \"Topic6\", \"Topic6\", \"Topic6\", \"Topic6\", \"Topic6\", \"Topic6\", \"Topic6\", \"Topic6\", \"Topic6\", \"Topic6\", \"Topic6\", \"Topic6\", \"Topic6\", \"Topic6\", \"Topic7\", \"Topic7\", \"Topic7\", \"Topic7\", \"Topic7\", \"Topic7\", \"Topic7\", \"Topic7\", \"Topic7\", \"Topic7\", \"Topic7\", \"Topic7\", \"Topic7\", \"Topic7\", \"Topic7\", \"Topic7\", \"Topic7\", \"Topic7\", \"Topic7\", \"Topic7\", \"Topic7\", \"Topic7\", \"Topic7\", \"Topic7\", \"Topic7\", \"Topic7\", \"Topic7\", \"Topic7\", \"Topic7\", \"Topic7\", \"Topic7\", \"Topic7\", \"Topic7\", \"Topic7\", \"Topic7\", \"Topic7\", \"Topic7\", \"Topic7\", \"Topic7\", \"Topic7\"], \"logprob\": [30.0, 29.0, 28.0, 27.0, 26.0, 25.0, 24.0, 23.0, 22.0, 21.0, 20.0, 19.0, 18.0, 17.0, 16.0, 15.0, 14.0, 13.0, 12.0, 11.0, 10.0, 9.0, 8.0, 7.0, 6.0, 5.0, 4.0, 3.0, 2.0, 1.0, -7.7957, -7.8994, -7.6938, -7.7146, -7.5608, -8.2663, -8.247, -7.1927, -7.2564, -8.3375, -8.2204, -7.9627, -8.5037, -8.5056, -8.281, -7.5894, -8.4959, -8.5544, -8.6077, -7.852, -8.4172, -7.575, -8.6267, -8.7523, -8.7691, -8.7097, -8.7103, -8.0236, -8.0434, -8.8565, -7.3703, -8.1251, -7.8969, -6.7515, -5.4596, -7.4316, -7.0409, -7.4975, -7.8892, -6.6094, -6.8412, -7.3646, -5.8255, -6.6126, -6.0701, -6.8696, -5.758, -5.4926, -7.3172, -5.5231, -6.7872, -4.7481, -5.6318, -5.5203, -6.0127, -6.4946, -5.8408, -6.1807, -6.54, -6.1156, -5.8593, -5.168, -6.1144, -6.2146, -5.458, -5.9972, -5.0661, -5.5602, -5.695, -5.2184, -5.5186, -5.4998, -5.8517, -6.0986, -5.7931, -5.1428, -5.4466, -5.7325, -5.1434, -5.2804, -5.4304, -5.6275, -5.686, -5.7174, -5.7579, -5.8581, -7.0784, -7.7312, -8.0149, -7.8722, -7.8775, -8.11, -8.1439, -7.8207, -8.2555, -8.3513, -8.2826, -8.189, -8.4857, -8.5451, -8.5117, -8.5377, -8.5479, -8.5211, -8.6127, -8.6385, -8.5729, -8.614, -8.6686, -8.2659, -8.711, -8.6569, -8.6634, -8.7421, -6.9302, -8.7856, -6.2184, -8.4794, -6.8258, -7.6485, -7.2782, -7.7721, -6.0401, -7.7587, -8.0482, -5.5977, -6.7666, -8.2329, -6.9207, -5.4907, -5.9431, -7.7608, -5.6627, -6.2847, -5.2333, -7.1192, -6.8061, -4.6522, -6.2947, -6.8557, -6.6217, -4.88, -4.8402, -5.9405, -5.0936, -5.5741, -5.47, -5.3742, -5.4979, -6.152, -5.1344, -5.072, -5.4747, -5.1759, -5.4486, -4.9807, -5.5675, -5.9502, -5.4344, -5.5705, -5.8121, -5.5469, -5.5739, -5.8284, -5.6623, -5.7435, -5.8379, -5.8809, -5.8768, -6.9075, -5.778, -7.2155, -6.5388, -7.0854, -6.1953, -7.4134, -7.45, -7.13, -7.4971, -7.6091, -7.5672, -7.681, -7.7105, -7.6526, -7.5156, -7.785, -7.8688, -7.9374, -7.9465, -8.0258, -7.9289, -8.0462, -8.044, -7.8843, -7.688, -8.0595, -8.1545, -8.1599, -8.1366, -7.9881, -7.4378, -6.7098, -6.9868, -7.7208, -6.7858, -5.9163, -6.9304, -7.569, -6.4919, -6.976, -6.9491, -5.3318, -7.3282, -5.4356, -5.2291, -4.8123, -6.1433, -4.9866, -5.1141, -6.7515, -5.9403, -5.3228, -5.921, -5.9939, -5.6487, -6.1955, -5.7795, -5.8791, -5.6188, -5.4187, -6.1748, -5.8679, -6.0872, -6.2396, -5.8003, -5.8435, -5.82, -6.1159, -6.0559, -5.9261, -6.0683, -6.084, -6.124, -6.1481, -6.176, -6.4247, -6.5245, -6.8856, -6.9527, -6.9852, -6.9893, -7.0166, -6.9821, -5.5088, -7.1521, -7.2155, -7.2155, -7.2707, -7.3038, -7.3096, -7.366, -7.2698, -7.434, -7.4512, -5.2844, -7.5023, -7.5921, -7.5671, -7.6477, -7.7122, -7.7612, -7.1757, -7.7641, -7.7737, -6.9426, -5.6818, -7.6142, -6.2479, -6.2917, -5.8562, -4.6121, -6.6073, -5.9267, -6.665, -6.9992, -6.2677, -6.7677, -5.2328, -6.704, -6.4445, -7.0583, -6.8618, -5.945, -6.9404, -6.6715, -6.2337, -6.3483, -6.2619, -6.7904, -6.8544, -6.6783, -6.7243, -6.7819, -6.8633, -4.4027, -5.3837, -5.8638, -6.0031, -6.2246, -6.2181, -6.3815, -6.4023, -6.531, -6.6302, -6.6531, -6.7963, -6.8457, -6.8773, -6.8773, -6.8046, -7.0149, -7.0291, -7.1297, -7.1633, -7.1842, -7.1931, -7.2087, -7.0114, -7.0276, -7.4246, -6.9617, -7.4307, -6.7692, -7.492, -6.6651, -5.6362, -6.854, -6.6268, -6.9054, -5.6686, -6.7829, -6.896, -6.5838, -6.6606, -6.8209, -6.7941, -6.6279, -6.0702, -6.3359, -6.2722, -6.3754, -6.8827, -7.0306, -7.1376, -7.2948, -7.336, -7.3241, -7.377, -7.3787, -7.0827, -7.4076, -6.9461, -6.9364, -7.3513, -6.8859, -7.5492, -7.5502, -7.5533, -7.5125, -7.5696, -7.5696, -7.6655, -7.6652, -7.7078, -7.3577, -7.7223, -7.7616, -5.8548, -5.9844, -6.9661, -6.916, -6.8301, -6.5049, -5.2881, -6.402, -7.0581, -6.867, -6.8731, -6.8031, -7.028, -7.294, -6.7405, -6.7879, -6.9816, -7.2636, -7.257, -7.2546, -6.4135, -6.568, -6.6652, -6.5572, -6.9004, -6.901, -6.9649, -6.9835, -6.9937, -6.9616, -7.0077, -7.0137, -6.4387, -7.0487, -7.0492, -7.0951, -7.0951, -6.5469, -7.1022, -7.1428, -7.2002, -7.1365, -7.3219, -6.9622, -7.3402, -7.3402, -7.4313, -7.4826, -7.492, -7.575, -6.6776, -6.6538, -6.8276, -6.4577, -6.6617, -6.1559, -7.141, -6.8575, -6.8981, -7.0002], \"loglift\": [30.0, 29.0, 28.0, 27.0, 26.0, 25.0, 24.0, 23.0, 22.0, 21.0, 20.0, 19.0, 18.0, 17.0, 16.0, 15.0, 14.0, 13.0, 12.0, 11.0, 10.0, 9.0, 8.0, 7.0, 6.0, 5.0, 4.0, 3.0, 2.0, 1.0, 0.3435, 0.3428, 0.3413, 0.3404, 0.3404, 0.3399, 0.3394, 0.3391, 0.3386, 0.3384, 0.337, 0.3369, 0.3358, 0.3356, 0.3354, 0.335, 0.3347, 0.3342, 0.334, 0.3336, 0.3335, 0.3333, 0.3332, 0.3326, 0.3322, 0.3312, 0.3311, 0.3311, 0.3308, 0.3303, 0.3257, 0.3292, 0.3265, 0.3123, 0.2795, 0.319, 0.3102, 0.3169, 0.323, 0.2815, 0.2878, 0.3026, 0.248, 0.2777, 0.2543, 0.2843, 0.2299, 0.205, 0.2944, 0.19, 0.2612, 0.116, 0.168, 0.1491, 0.189, 0.2288, 0.167, 0.1971, 0.2294, 0.1826, 0.1514, 0.0706, 0.1754, 0.1851, 0.098, 0.1582, 0.0427, 0.1021, 0.1194, 0.0483, 0.0873, 0.0832, 0.1345, 0.1684, 0.1162, -0.002, 0.0355, 0.0949, -0.099, -0.0624, -0.0224, 0.0364, 0.0457, 0.018, -0.0378, -0.0019, 1.5791, 1.5639, 1.5607, 1.5575, 1.5568, 1.5567, 1.5561, 1.5531, 1.5526, 1.549, 1.548, 1.5465, 1.5434, 1.5404, 1.5402, 1.5395, 1.5392, 1.5385, 1.536, 1.5359, 1.5355, 1.5353, 1.5338, 1.532, 1.5315, 1.5313, 1.5309, 1.5294, 1.5266, 1.5263, 1.521, 1.5255, 1.4682, 1.4895, 1.4631, 1.4799, 1.2854, 1.4551, 1.4797, 1.1956, 1.2977, 1.4925, 1.2962, 1.0264, 1.1051, 1.373, 0.8788, 1.0102, 0.7305, 1.195, 1.101, 0.3922, 0.9073, 1.0904, 1.0095, 0.338, 0.3006, 0.7194, 0.3144, 0.4875, 0.4185, 0.3459, 0.393, 0.7069, 0.1322, 0.0368, 0.2607, 0.0626, 0.2153, -0.1167, 0.2888, 0.5249, 0.0477, 0.1611, 0.3295, 0.009, 0.032, 0.2828, -0.0793, -0.0812, -0.0105, 0.1004, -0.2075, 2.9955, 2.9915, 2.986, 2.9855, 2.9804, 2.9774, 2.9765, 2.976, 2.9743, 2.9695, 2.9628, 2.9543, 2.953, 2.9499, 2.9494, 2.9411, 2.94, 2.938, 2.9306, 2.9248, 2.919, 2.9175, 2.9169, 2.9108, 2.9099, 2.9078, 2.9054, 2.9031, 2.9027, 2.8988, 2.8968, 2.8733, 2.8395, 2.7661, 2.8329, 2.5752, 2.3, 2.5621, 2.7424, 2.2044, 2.429, 2.294, 1.2097, 2.5432, 1.0815, 0.7346, 0.2321, 1.4546, 0.1222, 0.1039, 1.8978, 0.9185, 0.1593, 0.8829, 0.7995, 0.2398, 0.9885, 0.3083, 0.4145, -0.0358, -0.5546, 0.8893, 0.1937, 0.4823, 0.8413, -0.5336, -0.4355, -0.5814, 0.3631, -0.068, -0.7853, -0.406, -0.3639, -0.4109, -0.1585, 4.0666, 4.0508, 4.0394, 4.0013, 3.9927, 3.9899, 3.9889, 3.9846, 3.9822, 3.9767, 3.9618, 3.9528, 3.9528, 3.946, 3.9385, 3.9384, 3.92, 3.9174, 3.9127, 3.9047, 3.9038, 3.9, 3.8827, 3.8626, 3.8562, 3.8499, 3.8407, 3.832, 3.8312, 3.8295, 3.8094, 3.7431, 3.8234, 3.5868, 3.5944, 3.5096, 2.9859, 3.5674, 3.1825, 3.4921, 3.6416, 3.1679, 3.475, 2.16, 3.4119, 3.123, 3.6645, 3.3544, 1.4929, 3.4243, 2.753, 1.4983, 1.7264, 0.8022, 3.0134, 3.098, 1.7523, 1.2669, 0.2835, 1.7452, 4.2451, 4.2233, 4.1984, 4.1885, 4.1778, 4.1741, 4.1644, 4.1626, 4.1483, 4.1397, 4.1259, 4.1175, 4.1128, 4.1087, 4.1086, 4.0973, 4.0885, 4.0856, 4.0686, 4.063, 4.0593, 4.0582, 4.0536, 4.0529, 4.0484, 4.0107, 4.0106, 4.004, 4.0021, 3.9969, 3.9614, 3.7611, 3.8781, 3.7544, 3.8647, 3.0045, 3.5246, 3.4171, 2.0387, 2.2289, 2.3669, 1.9069, -0.0608, 4.6338, 4.595, 4.5935, 4.5157, 4.5052, 4.4574, 4.4202, 4.4028, 4.3894, 4.3856, 4.3801, 4.3776, 4.3533, 4.3529, 4.3436, 4.3407, 4.3261, 4.3228, 4.3227, 4.3215, 4.3195, 4.3163, 4.3141, 4.3141, 4.2771, 4.271, 4.2659, 4.2583, 4.2578, 4.243, 4.183, 4.1324, 4.2018, 4.1818, 4.1304, 3.9743, 3.466, 3.845, 4.1046, 3.8887, 3.5707, 3.1533, 3.4615, 4.0067, 0.8505, 1.1191, 2.0093, 3.6327, 3.4536, 2.0135, 4.8073, 4.7738, 4.7595, 4.7502, 4.7013, 4.6986, 4.6777, 4.6773, 4.6751, 4.6722, 4.6708, 4.6695, 4.6645, 4.6598, 4.6539, 4.6455, 4.6455, 4.6363, 4.6328, 4.6295, 4.6064, 4.6019, 4.5691, 4.5649, 4.56, 4.56, 4.5249, 4.5103, 4.4959, 4.4669, 4.3996, 4.3296, 4.3128, 3.95, 3.4099, 2.0818, 4.0832, 2.9793, 2.7353, 3.1166]}, \"token.table\": {\"Topic\": [1, 2, 3, 1, 2, 3, 1, 2, 4, 1, 2, 3, 4, 6, 3, 1, 2, 3, 2, 1, 2, 1, 2, 4, 2, 6, 6, 2, 1, 2, 3, 4, 2, 4, 6, 1, 2, 7, 6, 4, 3, 5, 1, 2, 3, 4, 1, 2, 3, 4, 2, 1, 2, 3, 4, 1, 3, 4, 1, 2, 4, 1, 1, 2, 3, 4, 5, 1, 2, 3, 4, 1, 2, 3, 4, 2, 6, 1, 2, 5, 4, 2, 4, 5, 1, 6, 3, 1, 2, 6, 5, 5, 1, 5, 7, 5, 4, 5, 1, 1, 2, 3, 1, 4, 7, 4, 1, 5, 2, 3, 6, 1, 2, 4, 5, 5, 5, 1, 3, 6, 7, 1, 2, 3, 1, 2, 3, 4, 1, 2, 3, 5, 2, 1, 1, 2, 3, 1, 2, 3, 4, 7, 1, 4, 1, 2, 4, 1, 1, 2, 7, 4, 1, 2, 3, 1, 2, 3, 1, 7, 1, 2, 3, 2, 4, 1, 3, 6, 3, 1, 2, 3, 4, 1, 7, 2, 1, 3, 6, 1, 1, 2, 6, 7, 1, 2, 4, 2, 4, 1, 6, 7, 5, 1, 3, 6, 1, 2, 3, 6, 2, 4, 6, 3, 4, 1, 2, 5, 6, 7, 1, 2, 1, 2, 3, 2, 1, 2, 3, 4, 1, 2, 4, 4, 1, 2, 3, 4, 1, 3, 1, 3, 4, 7, 1, 2, 3, 4, 5, 1, 1, 6, 5, 3, 3, 1, 2, 3, 4, 3, 1, 2, 3, 4, 5, 3, 1, 2, 3, 4, 1, 2, 1, 3, 6, 1, 3, 1, 7, 1, 2, 3, 1, 2, 3, 4, 1, 2, 3, 4, 7, 4, 4, 3, 7, 1, 5, 6, 6, 1, 2, 3, 4, 5, 1, 2, 3, 5, 1, 2, 3, 4, 1, 2, 3, 4, 1, 2, 3, 4, 2, 1, 2, 5, 5, 6, 1, 2, 3, 1, 2, 4, 4, 7, 3, 7, 7, 6, 1, 2, 3, 4, 5, 1, 2, 3, 3, 4, 6, 1, 2, 3, 1, 2, 6, 1, 2, 3, 4, 1, 2, 3, 5, 2, 5, 1, 2, 3, 4, 2, 6, 1, 2, 3, 4, 5, 4, 1, 2, 3, 6, 1, 2, 5, 4, 1, 2, 1, 3, 7, 1, 3, 7, 1, 3, 7, 1, 2, 3, 4, 6, 3, 1, 2, 3, 4, 5, 1, 2, 3, 4, 6, 3, 3, 6, 1, 5, 1, 2, 3, 4, 3, 5, 6, 1, 2, 3, 4, 6, 7, 1, 2, 3, 4, 5, 1, 2, 3, 4, 1, 2, 3, 4, 5, 1, 2, 3, 5, 7, 5, 7, 1, 6, 1, 2, 6, 1, 2, 3, 4, 5, 1, 2, 3, 4, 5, 1, 2, 3, 4, 7, 1, 2, 3, 5, 1, 2, 3, 4, 1, 6, 1, 2, 1, 7, 1, 3, 4, 2, 1, 2, 3, 5, 1, 2, 7, 1, 6, 1, 2, 3, 4, 2, 4, 4, 2, 5, 1, 2, 3, 4, 5, 2, 6, 4, 2, 4, 5, 1, 2, 3, 4, 3, 1, 2, 3, 6, 7, 1, 2, 5, 1, 3, 1, 2, 3, 4, 4, 2, 7, 6, 7, 2, 1, 2, 3, 4, 1, 2, 3, 1, 2, 3, 1, 1, 2, 4, 1, 2, 3, 1, 2, 4, 6, 1, 2, 3, 4, 5, 1, 2, 5, 2, 7, 1, 2, 1, 2, 3, 4, 1, 2, 1, 2, 3, 1, 4, 6, 1, 2, 3, 4, 7, 1, 2, 1, 2, 3, 5, 1, 2, 3, 4, 5, 1, 2, 3, 4, 5, 4, 1, 3, 6, 4, 6, 3, 1, 6, 5, 1, 2, 3, 3, 1, 7, 1, 2, 3, 4, 5, 2, 6, 4, 1, 7, 6, 5, 1, 2, 3, 4, 7, 1, 2, 1, 1, 2, 3, 4, 1, 4, 4, 1, 2, 3, 4, 1, 2, 3, 4, 1, 2, 3, 4, 1, 2, 3, 4, 1, 2, 3, 4, 6, 1, 2, 3, 4, 5, 1, 2, 3, 5, 2, 1, 7, 1, 2, 3, 1, 2, 1, 2, 3, 4, 5, 1, 3, 4, 4, 2, 1, 2, 3, 4, 2, 2, 3, 4, 3, 5, 1, 2, 1, 1, 2, 3, 1, 2, 3, 1, 2, 4, 1, 6, 1, 2, 4, 2, 1, 5, 3, 1, 2, 3, 4, 1, 2, 3, 4, 4, 1, 3, 1, 2, 3, 4, 1, 2, 4, 4, 3, 4, 1, 2, 3, 3, 7, 1, 2, 3, 4, 5, 5, 2, 2, 1, 3, 2, 7, 1, 2, 3, 1, 2, 3, 4, 6, 1, 2, 3, 4, 1, 2, 3, 4, 3, 1, 2, 3, 7, 7, 1, 2, 3, 4, 1, 5, 1, 4, 6, 2, 1, 2, 1, 1, 2, 4, 4, 7, 1, 1, 2, 3, 4, 2, 5, 1, 2, 5, 5, 3, 1, 2, 3, 6, 5, 1, 2, 3, 1, 2, 3, 4, 5, 6, 1, 2, 3, 4, 1, 2, 1, 2, 3, 4, 6, 1, 2, 3, 4, 2, 7, 1, 2, 3, 5, 4, 1, 2, 3, 4, 1, 1, 2, 1, 6, 4, 1, 2, 3, 5, 1, 2, 1, 2, 3, 4, 5, 1, 2, 3, 4, 1, 2, 2, 5], \"Freq\": [0.8326175961245861, 0.13151918286293582, 0.035409010770790415, 0.032462015553751354, 0.9413984510587893, 0.8731983687001235, 0.8676720538703961, 0.11014489803017982, 0.02023069555656364, 0.7647304375373691, 0.1883748541063346, 0.045434585407760915, 0.0010210019192755263, 0.5497740677316035, 0.9097298627471373, 0.9520004351175285, 0.04103450151368657, 0.004103450151368657, 0.9427256484130125, 0.9886259020046073, 0.007723639859410995, 0.22040385522573666, 0.7465291870549144, 0.028439207125901502, 0.7056516706517421, 0.2798273866377598, 0.9046860380880686, 0.9329010675013496, 0.8382860732433075, 0.1355746612282386, 0.02380318479579762, 0.0010349210780781573, 0.2705571120817439, 0.13527855604087194, 0.5411142241634878, 0.08006311383750102, 0.9007100306718865, 0.7005022499347276, 0.5563845347466313, 0.8567398527986464, 0.1758830869674127, 0.7035323478696508, 0.6328638795604247, 0.3438394306273173, 0.019932720616076368, 0.002491590077009546, 0.4766128120781148, 0.4228257862636567, 0.09860954732650651, 0.0022411260756024206, 0.9689698153448899, 0.3140181846587651, 0.11214935166384467, 0.02242987033276893, 0.5383168879864544, 0.1471575996273212, 0.8093667979502666, 0.712308099190817, 0.2645605099948079, 0.3607643318111017, 0.3848152872651751, 0.9725285373996957, 0.9020069227601785, 0.08669937150375098, 0.008336478029206826, 0.0025009434087620475, 0.0008336478029206825, 0.8467953190365236, 0.14671624217958867, 0.00577623000707042, 0.001155246001414084, 0.6265144529359408, 0.2992307834917926, 0.07169070854490865, 0.002077991552026338, 0.9594243449076366, 0.7124431032820552, 0.11574623068955349, 0.25464170751701765, 0.6018803995856781, 0.8594755173724961, 0.8998727036125054, 0.06427662168660753, 0.8928661058392293, 0.3105842427114423, 0.46587636406716343, 0.8790044623896154, 0.8942082544656479, 0.03083476739536717, 0.06166953479073434, 0.9487470243810989, 0.8799979658667004, 0.5205913330692428, 0.40490437016496655, 0.6966454623175238, 0.9133727414870355, 0.8161790200722399, 0.8868229691631286, 0.9814527817568665, 0.11561338317029095, 0.8671003737771821, 0.9066924591879529, 0.9752993514183489, 0.13807719712199187, 0.6903859856099595, 0.7066318309617711, 0.3096118713315696, 0.6192237426631392, 0.09358252374954126, 0.8422427137458713, 0.5563845347466313, 0.6897937308156933, 0.023785990717782528, 0.26164589789560777, 0.023785990717782528, 0.9390131343191856, 0.8337028189904377, 0.13598140985992033, 0.13598140985992033, 0.5439256394396813, 0.13598140985992033, 0.08083796999844331, 0.08083796999844331, 0.8083796999844332, 0.7295488421289582, 0.2524084006151783, 0.016052288635614406, 0.0011070543886630626, 0.34480943041235745, 0.49125359004694946, 0.15842595451378588, 0.005325242168530617, 0.9570164136111238, 0.9821384701197938, 0.9732777663884076, 0.014312908329241288, 0.007156454164620644, 0.7767712505435592, 0.15245043234967048, 0.014519088795206714, 0.007259544397603357, 0.0508168107832235, 0.6048680703413877, 0.3629208422048326, 0.739609352481291, 0.15848771838884806, 0.08804873243824893, 0.9901111321252068, 0.681467739315572, 0.09086236524207628, 0.18172473048415255, 0.870827947087864, 0.9283529247662627, 0.062267574222127385, 0.007547584754197259, 0.9736636220493744, 0.009015403907864577, 0.009015403907864577, 0.826274363529557, 0.14369988930948815, 0.22726391045453703, 0.6739550447962133, 0.09404023880877393, 0.3525644349896643, 0.5540298264123296, 0.3315375220563831, 0.1105125073521277, 0.5525625367606385, 0.8528716506106785, 0.960573431430725, 0.011221652236340245, 0.02468763491994854, 0.002244330447268049, 0.39688045543867595, 0.5291739405849013, 0.9822604259308211, 0.6025101368988172, 0.08607287669983102, 0.2582186300994931, 0.9822183442177355, 0.23766747162438653, 0.04753349432487731, 0.5228684375736503, 0.1426004829746319, 0.05292833894856352, 0.9306566265122419, 0.008821389824760587, 0.43125515675967513, 0.539068945949594, 0.22634648202005675, 0.6790394460601703, 0.6517716033852228, 0.8760949468461119, 0.23098440267393897, 0.7506993086903017, 0.701326630531437, 0.08448657088932948, 0.8832686956611719, 0.023041792060726225, 0.6087766233006255, 0.15166477289790384, 0.15166477289790384, 0.6066590915916154, 0.9262320551988111, 0.9240015093160424, 0.21962501418858305, 0.08785000567543322, 0.04392500283771661, 0.5710250368903159, 0.08785000567543322, 0.981973140491315, 0.016643612550700255, 0.9651568065137454, 0.023772335135806535, 0.009508934054322614, 0.9713105106183373, 0.7736857893367562, 0.2014059889680351, 0.02411657473080032, 0.0006517993170486573, 0.3396475622147003, 0.07547723604771119, 0.5660792703578339, 0.7611615102974053, 0.6882246443047065, 0.27897524498279197, 0.03042587157262401, 0.0021426670121566203, 0.11544644742196263, 0.8081251319537385, 0.986551397036139, 0.8440567950120066, 0.07673243591018242, 0.723314926227845, 0.4371919817820064, 0.4567677421603052, 0.032626267297164654, 0.07177778805376224, 0.003262626729716466, 0.9876753270957709, 0.1031025812412774, 0.8248206499302192, 0.8683029944549632, 0.8523961919208044, 0.8703377594958339, 0.41647620021415793, 0.17353175008923247, 0.01735317500892325, 0.38176985019631143, 0.8864262893676853, 0.7926560804477212, 0.18851317497660902, 0.016084741892202135, 0.0012867793513761708, 0.0006433896756880854, 0.9311753257682474, 0.716433217869802, 0.26457492278179406, 0.013674658930294976, 0.005350953494463251, 0.9818656355340448, 0.01061476362739508, 0.03838198835701486, 0.9595497089253715, 0.8550951566496291, 0.026281121305051367, 0.9461203669818492, 0.9851058194536559, 0.5604773492296191, 0.3564444472251018, 0.025460317658935843, 0.6110476238144602, 0.466243297395745, 0.4132195498487779, 0.1188463307087193, 0.001828405087826451, 0.28972090947358725, 0.5690482437194225, 0.13901406867118313, 0.0012991969034690013, 0.7465879302624773, 0.8318038255454743, 0.8057401782752582, 0.37256467987861225, 0.49675290650481635, 0.09145806598390512, 0.7316645278712409, 0.09145806598390512, 0.7490709281664234, 0.6371896811039854, 0.30146608568360606, 0.059578277803084195, 0.001191565556061684, 0.8294740277662688, 0.7251604547109607, 0.15230100242139508, 0.11422575181604631, 0.008653466046670175, 0.7791971318938716, 0.18789150698150095, 0.03149945852336928, 0.0011052441587147115, 0.6612516733310467, 0.2856210336038712, 0.05244654215058677, 0.0007087370560890104, 0.7342299970244, 0.21127777932549804, 0.05337543898749424, 0.0006354218927082648, 0.9773266052784322, 0.4151413738430091, 0.30294100253408773, 0.28050092827230344, 0.7827774739055152, 0.1118253534150736, 0.8189597288691699, 0.16128652404115584, 0.01957360728654804, 0.3654269927031147, 0.12180899756770489, 0.48723599027081954, 0.8161790200722399, 0.7192734368907445, 0.9265985764889636, 0.6295066498608519, 0.723314926227845, 0.5266522709182544, 0.5763876935839429, 0.343642069096365, 0.07666914689002566, 0.0027381838175009163, 0.8410908417640316, 0.8846049482574223, 0.1005958695671798, 0.012774078675197434, 0.8880041776954846, 0.8067766123211132, 0.7352900775729606, 0.2976120070862033, 0.21824880519654907, 0.4761792113379253, 0.5668375948788299, 0.2024419981710107, 0.2024419981710107, 0.6353521977244299, 0.21328077308770613, 0.11449809923655803, 0.0359209723095084, 0.6268977877624765, 0.1950348673038816, 0.04179318585083177, 0.1253795575524953, 0.12259721986505313, 0.858180539055372, 0.8444184160581155, 0.12003475629997934, 0.034444756155646246, 0.0010437804895650378, 0.9432581308295974, 0.8032930519364361, 0.44323637901675106, 0.5050833156237395, 0.043808246763283536, 0.00515391138391571, 0.002576955691957855, 0.9018420827615041, 0.3295931604153974, 0.19775589624923845, 0.13183726416615896, 0.3295931604153974, 0.9755394851714732, 0.016892458617687848, 0.004223114654421962, 0.8997886803265253, 0.9894082328573904, 0.009994022554115054, 0.8207474580599476, 0.05862481843285341, 0.08793722764928011, 0.06358181961963114, 0.5086545569570491, 0.3179090980981557, 0.055475096469317316, 0.9245849411552887, 0.721716960263927, 0.14286780932164891, 0.7376644032321872, 0.11079544396372772, 0.008747008733978504, 0.5863442722630174, 0.9441822287938094, 0.3071527598938631, 0.6143055197877262, 0.07513089090929026, 0.0022097320855673603, 0.9451699160023965, 0.7942951390331172, 0.05673536707379409, 0.08510305061069114, 0.05673536707379409, 0.005673536707379409, 0.8770313441223064, 0.21286347385985813, 0.6385904215795744, 0.4601279193034876, 0.4601279193034876, 0.677438996787583, 0.28807258981805606, 0.032788750060591745, 0.0011710267878782767, 0.8196470980745838, 0.9025864947358968, 0.5503826938236598, 0.21920318433419575, 0.6730222769010854, 0.10446401753426515, 0.0017125248776109043, 0.6127030674458922, 0.6731414875705551, 0.9303067933622983, 0.06683409933071033, 0.0011934660594769702, 0.0005967330297384851, 0.0005967330297384851, 0.7412767401334791, 0.21694034897391376, 0.04062840457815346, 0.0007665736712859143, 0.7368134039222094, 0.2392866681548011, 0.02132257439003178, 0.0023691749322257536, 0.0005922937330564384, 0.8243572341661347, 0.15835621951599735, 0.0144782829271769, 0.0018097853658971125, 0.7816520927268282, 0.1274697620210521, 0.7648185721263125, 0.6209809732408815, 0.275991543662614, 0.6712936232244852, 0.24410677208163098, 0.061026693020407745, 0.7902701904066466, 0.18133678590067528, 0.027113456328084505, 0.0009949892230489727, 0.00024874730576224317, 0.8638319282690844, 0.12765707091054063, 0.006296985560609628, 0.0005724532327826934, 0.0017173596983480802, 0.831433218502878, 0.16082182442403087, 0.0070261962127003775, 0.0007806884680778198, 0.8602304881339118, 0.7153369990547845, 0.18460309653026696, 0.011537693533141685, 0.09230154826513348, 0.31499135445288967, 0.10499711815096321, 0.05249855907548161, 0.4724870316793345, 0.4501996773942589, 0.4501996773942589, 0.985903036501548, 0.010601107919371484, 0.431564947253215, 0.431564947253215, 0.18996193862460342, 0.332433392593056, 0.47490484656150855, 0.9607339445926624, 0.7697078444694635, 0.03754672412046164, 0.03754672412046164, 0.15018689648184655, 0.9792755354977769, 0.008160629462481474, 0.7725968858824107, 0.2535519560431553, 0.5071039120863106, 0.7677940859897596, 0.21049048751964158, 0.019847738277286302, 0.0015669267061015502, 0.12641606128976615, 0.8596292167704098, 0.8919260547468245, 0.9350480331851113, 0.04250218332659597, 0.9601960249195408, 0.011965059500555025, 0.020938854125971296, 0.005982529750277512, 0.7107203859643421, 0.1536054374601436, 0.6144217498405744, 0.8844776666280441, 0.9162797708936555, 0.69505574923629, 0.11584262487271499, 0.8052362168627263, 0.18029957037913039, 0.013751662147560791, 0.000763981230420044, 0.8567445952297641, 0.9678587121317794, 0.02230089198460321, 0.004460178396920643, 0.004460178396920643, 0.5982080917952275, 0.09134454451814181, 0.09134454451814181, 0.6394118116269926, 0.04694145316846891, 0.9388290633693781, 0.545480877183512, 0.41810210091813144, 0.032968624445157316, 0.002997147676832483, 0.8838894435398276, 0.9354694848331521, 0.6281962692215691, 0.8472478647685854, 0.6205423050313186, 0.9682803758328755, 0.790216367930587, 0.1959623401224464, 0.012734014881603015, 0.0007074452712001675, 0.8854708973246193, 0.0696437784412622, 0.044388342303222056, 0.9127436889862175, 0.07956119322882282, 0.004420066290490157, 0.9833980932919689, 0.05422395044326801, 0.9398818076833123, 0.897047564783506, 0.6026225210254725, 0.07669741176687832, 0.31774642017706733, 0.34944147888184224, 0.6102187019279931, 0.010431088921846037, 0.02607772230461509, 0.729133299811155, 0.21366374545099034, 0.05537721264388519, 0.00046147677203237656, 0.0009229535440647531, 0.9917670965809177, 0.006047360345005596, 0.8924159284448994, 0.9697297944574476, 0.6677955452591791, 0.9816784183325272, 0.015665081143604157, 0.5296952798625337, 0.3584575816311112, 0.10959212686811043, 0.0022831693097523005, 0.9899872217358721, 0.005928067196023186, 0.551209595975707, 0.011483533249493895, 0.42489073023127416, 0.20729419854411024, 0.31094129781616536, 0.31094129781616536, 0.8845047868166409, 0.10533799918610279, 0.006688126932450971, 0.0016720317331127426, 0.6829998412302816, 0.9904138620849553, 0.005185412890497149, 0.6298093425026549, 0.3097082245310085, 0.060278781955699634, 0.8822573192718631, 0.5048857823008326, 0.2945167063421524, 0.0841476303834721, 0.09466608418140611, 0.021036907595868026, 0.9357164463050516, 0.056486819593218336, 0.00491189735593203, 0.002455948677966015, 0.002455948677966015, 0.8129995306969329, 0.04516919816418004, 0.9485531614477808, 0.7378116643889279, 0.7392815357625367, 0.6278637514430702, 0.9369320630864676, 0.4780686223179133, 0.4780686223179133, 0.9069025932316971, 0.850090788310356, 0.1004566594881803, 0.049280625409296, 0.8990684539134115, 0.1947541485809925, 0.5842624457429775, 0.017786622836370232, 0.8003980276366605, 0.12450635985459163, 0.035573245672740464, 0.9068913697914559, 0.14164780491605114, 0.7082390245802557, 0.8394302547886948, 0.3391962445087893, 0.4522616593450524, 0.5498656635734865, 0.9219522472085618, 0.6625433196332777, 0.3021030859963059, 0.03264102308465834, 0.002083469558595213, 0.6797925593876838, 0.9854302508063992, 0.01378224127001957, 0.9823966297818701, 0.23739271285270042, 0.24505054229956172, 0.20293248034182457, 0.3177999220447441, 0.3210923759687091, 0.6421847519374182, 0.9163350060422506, 0.7023540728679551, 0.2752335670883766, 0.02165126987822748, 0.0009841486308285218, 0.8511847460340767, 0.11628206913033835, 0.031396158665191354, 0.0011628206913033834, 0.9326123431345847, 0.06041213558766541, 0.003775758474229088, 0.001887879237114544, 0.3327435245919868, 0.5516537381393466, 0.04378204270947195, 0.07005126833515511, 0.5426421114933933, 0.2931514855194194, 0.021830429772722718, 0.13721984428568565, 0.003118632824674674, 0.8567088363408387, 0.11076182844512163, 0.028255568480898375, 0.00226044547847187, 0.001130222739235935, 0.7213036298326848, 0.14679161589577444, 0.12654449646187452, 0.0025308899292374905, 0.918944199860449, 0.9882261924750833, 0.6175348733104515, 0.18593810191657167, 0.18593810191657167, 0.5950019261330294, 0.9887244238878147, 0.007634937636199341, 0.7488410274404497, 0.22503243058108946, 0.02052660684354532, 0.005321712885363602, 0.9707185687820299, 0.1742541387800574, 0.1742541387800574, 0.609889485730201, 0.8339314714029172, 0.942682309532307, 0.0669713100106866, 0.22323770003562202, 0.6250655600997416, 0.0892950800142488, 0.9639336509096901, 0.3584803121836423, 0.03584803121836423, 0.5735684994938277, 0.8680640545328504, 0.06677415804098849, 0.9695174847217052, 0.0212303098844169, 0.9932706478249582, 0.4077252377554644, 0.5581481410050532, 0.027709482177555828, 0.07913313683510165, 0.8968422174644852, 0.026377712278367212, 0.23795060037041996, 0.07138518011112599, 0.6662616810371759, 0.5413983419253444, 0.3789788393477411, 0.07144499440959727, 0.9109236787223651, 0.017861248602399318, 0.9323535031916569, 0.1582601792889264, 0.7121708068001689, 0.9065688323217735, 0.06998056387388642, 0.3732296739940609, 0.5365176563664625, 0.023326854624628805, 0.49400240768677556, 0.10977831281928346, 0.027444578204820866, 0.35677951666267127, 0.8205471796246259, 0.23121432443437237, 0.7597042088557949, 0.6302722220523072, 0.3001296295487177, 0.06752916664846148, 0.0012505401231196571, 0.037559881810928106, 0.15023952724371242, 0.7887575180294901, 0.8788960352778522, 0.17942984666497552, 0.7177193866599021, 0.22234990489653558, 0.6073948621563898, 0.16269505236331872, 0.8337443231566481, 0.6500616163421175, 0.7761211917638241, 0.2057068971768394, 0.017390679713017825, 0.0004968765632290807, 0.0004968765632290807, 0.7102186951009956, 0.9579205657762719, 0.9320623520134614, 0.049418914130628044, 0.9389593684819328, 0.983124314921066, 0.8090335296041712, 0.4618953066298786, 0.06395473476413703, 0.46900138827033827, 0.6290988949045935, 0.24053781275763866, 0.03700581734732902, 0.09251454336832256, 0.6928765625234591, 0.7024246020951834, 0.2717115223004291, 0.02482302796324908, 0.0006708926476553806, 0.6087978326785549, 0.3319966530033256, 0.057666912432339436, 0.0024714391042431187, 0.8873638235936875, 0.9432316069334642, 0.027171280858165635, 0.023289669306999116, 0.565653209775455, 0.565653209775455, 0.7549488225045414, 0.21704326473537366, 0.026406930542803797, 0.0010852163236768683, 0.991759972710746, 0.9176009113578094, 0.6256474638635485, 0.31282373193177426, 0.7347118863038467, 0.9243755842464275, 0.25024418125714426, 0.7446290271554048, 0.9806051760819822, 0.14846176460145863, 0.29692352920291726, 0.5443598035386816, 0.8874192888570721, 0.6558207840159332, 0.9864204469783333, 0.7239869265199306, 0.20890744258226968, 0.06427921310223682, 0.002537337359298822, 0.9674302890495178, 0.843702491664988, 0.022611957993398223, 0.9723141937161236, 0.8649256303168933, 0.9845502963141354, 0.9004302529337728, 0.7605157058726162, 0.21294439764433254, 0.0038025785293630807, 0.019012892646815403, 0.7471806354856857, 0.9390641318589487, 0.05749372235871114, 0.0023955717649462977, 0.43266224806500947, 0.5599158504370711, 0.002827857830490258, 0.002827857830490258, 0.002827857830490258, 0.8582875205576976, 0.6848230557787796, 0.2701198399531975, 0.04242266717213679, 0.0025973061533961297, 0.9891024670164591, 0.0071674091812786896, 0.6844917417022801, 0.2828994551755186, 0.029450101011962507, 0.0017848546067856064, 0.5901005888371914, 0.816966991333338, 0.16528555614850232, 0.01669551072207094, 0.0005565170240690314, 0.9566710130466131, 0.7031853198982556, 0.26666392572689607, 0.5866606365991713, 0.03199967108722753, 0.10666557029075843, 0.7651253780824536, 0.7384902718091999, 0.2325221258845088, 0.027530619704725843, 0.0011161062042456423, 0.973035602211405, 0.02391067565719431, 0.9564270262877724, 0.17778828203564453, 0.7111531281425781, 0.6304386091156747, 0.8262695007512858, 0.13657347119855964, 0.023217490103755137, 0.013657347119855962, 0.10810424540600032, 0.8768455460708915, 0.8325400347770373, 0.14203272489722493, 0.02409483725935066, 0.0006340746647197543, 0.0006340746647197543, 0.9075052937982306, 0.0900005250047832, 0.0010714348214855144, 0.0010714348214855144, 0.03455357551620201, 0.9329465389374542, 0.9245336486793303, 0.7498143761935063], \"Term\": [\"action\", \"action\", \"action\", \"albert_brook\", \"albert_brook\", \"ali_larter\", \"alien\", \"alien\", \"alien\", \"also\", \"also\", \"also\", \"also\", \"amarcord\", \"ambrose\", \"american\", \"american\", \"american\", \"anastasia\", \"angel\", \"angel\", \"animation\", \"animation\", \"animation\", \"ape\", \"ape\", \"argento\", \"asteroid\", \"audience\", \"audience\", \"audience\", \"audience\", \"audio\", \"audio\", \"audio\", \"austin_power\", \"austin_power\", \"autistic\", \"ayla\", \"ba_ku\", \"bachelor\", \"bachelor\", \"back\", \"back\", \"back\", \"back\", \"bad\", \"bad\", \"bad\", \"bad\", \"barlow\", \"bat\", \"bat\", \"bat\", \"bat\", \"bate\", \"bate\", \"batgirl\", \"batman\", \"batman\", \"batman\", \"beautifully\", \"become\", \"become\", \"become\", \"become\", \"become\", \"begin\", \"begin\", \"begin\", \"begin\", \"big\", \"big\", \"big\", \"big\", \"big_lebowski\", \"big_momma\", \"blade\", \"blade\", \"blade\", \"blade_squad\", \"blair_witch\", \"blair_witch\", \"blake\", \"blue_velvet\", \"blue_velvet\", \"bondsman\", \"boogie_night\", \"boogie_night\", \"boogie_night\", \"booker\", \"boorman\", \"bread\", \"bread\", \"brean\", \"bresson\", \"brigg\", \"bubby\", \"bulworth\", \"buzz\", \"buzz\", \"camembert\", \"cameron\", \"cannibal\", \"cannibal\", \"cappie\", \"carpenter\", \"carpenter\", \"casey\", \"casey\", \"cave_bear\", \"cell\", \"cell\", \"cell\", \"cell\", \"chocolat\", \"chucky\", \"cindy\", \"cindy\", \"cindy\", \"cindy\", \"coach\", \"coach\", \"coach\", \"come\", \"come\", \"come\", \"come\", \"comedy\", \"comedy\", \"comedy\", \"comedy\", \"comet\", \"compelling\", \"complex\", \"complex\", \"complex\", \"computer\", \"computer\", \"computer\", \"computer\", \"computer\", \"connor\", \"connor\", \"contact\", \"contact\", \"contact\", \"contrast\", \"costner\", \"costner\", \"costner\", \"craven\", \"create\", \"create\", \"create\", \"criminal\", \"criminal\", \"criminal\", \"cusack\", \"cusack\", \"cute\", \"cute\", \"cute\", \"datum\", \"datum\", \"david_lynch\", \"david_lynch\", \"david_lynch\", \"dawson_creek\", \"death\", \"death\", \"death\", \"death\", \"deedle\", \"deedle\", \"deep_impact\", \"delete\", \"delete\", \"delete\", \"derek\", \"disc\", \"disc\", \"disc\", \"disc\", \"disney\", \"disney\", \"disney\", \"dogma\", \"dogma\", \"dolby_digital\", \"dolby_digital\", \"domingo\", \"donkey\", \"double_jeopardy\", \"double_jeopardy\", \"double_team\", \"dude\", \"dude\", \"dude\", \"duma\", \"dune\", \"dune\", \"dune\", \"dusk_till_dawn\", \"dussander\", \"dvd\", \"dvd\", \"dvd\", \"dvd\", \"dvd\", \"edge\", \"edge\", \"effective\", \"effective\", \"effective\", \"ellie\", \"end\", \"end\", \"end\", \"end\", \"enterprise\", \"enterprise\", \"enterprise\", \"eruption\", \"even\", \"even\", \"even\", \"even\", \"exorcist\", \"exorcist\", \"extraordinary\", \"faculty\", \"faculty\", \"fail_safe\", \"fan\", \"fan\", \"fan\", \"fan\", \"fan\", \"fascinating\", \"fellini\", \"fellini\", \"fernando\", \"ffe\", \"fichtner\", \"file\", \"file\", \"file\", \"file\", \"finch\", \"find\", \"find\", \"find\", \"find\", \"find\", \"fingernail\", \"first\", \"first\", \"first\", \"first\", \"flaw\", \"flaw\", \"flubber\", \"flubber\", \"flynt\", \"football\", \"football\", \"freedom\", \"fuente\", \"fugitive\", \"fugitive\", \"fugitive\", \"fun\", \"fun\", \"fun\", \"fun\", \"funny\", \"funny\", \"funny\", \"funny\", \"furtwangler\", \"galaxy_qu\", \"gale_weather\", \"garofalo\", \"garofalo\", \"gauge\", \"gauge\", \"gauge\", \"geronimo\", \"get\", \"get\", \"get\", \"get\", \"gile\", \"girl\", \"girl\", \"girl\", \"girl\", \"give\", \"give\", \"give\", \"give\", \"go\", \"go\", \"go\", \"go\", \"good\", \"good\", \"good\", \"good\", \"gorilla\", \"grace\", \"grace\", \"grace\", \"granger\", \"granger\", \"great\", \"great\", \"great\", \"green_mile\", \"green_mile\", \"green_mile\", \"greenfinger\", \"gridlock\", \"grier\", \"grinch\", \"groeteschele\", \"groove\", \"guy\", \"guy\", \"guy\", \"guy\", \"hallstrom\", \"happen\", \"happen\", \"happen\", \"haunted_hill\", \"hershman\", \"heyst\", \"high_school\", \"high_school\", \"high_school\", \"home_video\", \"home_video\", \"home_video\", \"horror\", \"horror\", \"horror\", \"horror\", \"horse\", \"horse\", \"horse\", \"horse\", \"horse_whisper\", \"horse_whisper\", \"however\", \"however\", \"however\", \"however\", \"hulot\", \"humbert\", \"humor\", \"humor\", \"humor\", \"humor\", \"humor\", \"hun\", \"hustler\", \"hustler\", \"hustler\", \"hustler\", \"image\", \"image\", \"image\", \"insurrection\", \"intense\", \"intense\", \"irish\", \"irish\", \"irish\", \"jackal\", \"jackal\", \"jackal\", \"jackie_brown\", \"jackie_brown\", \"jeffrie\", \"joke\", \"joke\", \"joke\", \"joke\", \"kathy\", \"kenneth_william\", \"kid\", \"kid\", \"kid\", \"kid\", \"kiki\", \"killer\", \"killer\", \"killer\", \"killer\", \"killer\", \"kimble\", \"kitty\", \"kitty\", \"knight\", \"knight\", \"know\", \"know\", \"know\", \"know\", \"kudrow\", \"lancelot\", \"larry_flynt\", \"laugh\", \"laugh\", \"laugh\", \"laugh\", \"leasure\", \"lesly\", \"life\", \"life\", \"life\", \"life\", \"life\", \"little\", \"little\", \"little\", \"little\", \"look\", \"look\", \"look\", \"look\", \"look\", \"love\", \"love\", \"love\", \"love\", \"lucinda\", \"lumumba\", \"lumumba\", \"lynch\", \"lynch\", \"magazine\", \"magazine\", \"magazine\", \"make\", \"make\", \"make\", \"make\", \"make\", \"man\", \"man\", \"man\", \"man\", \"man\", \"many\", \"many\", \"many\", \"many\", \"marcy\", \"marriage\", \"marriage\", \"marriage\", \"marriage\", \"mars_attack\", \"mars_attack\", \"mars_attack\", \"mars_attack\", \"martin_lawrence\", \"martin_lawrence\", \"matrix\", \"matrix\", \"mercury_rise\", \"mercury_rise\", \"mickey\", \"mickey\", \"mickey\", \"mike_myer\", \"mob\", \"mob\", \"mob\", \"mob\", \"moral\", \"moral\", \"motss\", \"mr_anderson\", \"mr_anderson\", \"much\", \"much\", \"much\", \"much\", \"mulan\", \"mulan\", \"mulder\", \"muppet\", \"muppet\", \"murder\", \"murder\", \"murder\", \"murder\", \"muriel\", \"musketeer\", \"musketeer\", \"nbsp\", \"nello\", \"ness\", \"ness\", \"never\", \"never\", \"never\", \"never\", \"nookey\", \"novel\", \"novel\", \"novel\", \"novel\", \"nuclear_war\", \"ogre\", \"ogre\", \"ogre\", \"ordell\", \"ordell\", \"original\", \"original\", \"original\", \"original\", \"osmosis_jone\", \"palmetto\", \"paradine\", \"patlabor\", \"patrice\", \"paulie\", \"people\", \"people\", \"people\", \"people\", \"performance\", \"performance\", \"performance\", \"perhaps\", \"perhaps\", \"perhaps\", \"perspective\", \"phantom_menace\", \"phantom_menace\", \"picard\", \"plane\", \"plane\", \"plane\", \"planet\", \"planet\", \"planet\", \"planet\", \"play\", \"play\", \"play\", \"play\", \"play\", \"political\", \"political\", \"pollock\", \"porter\", \"postman\", \"powerful\", \"powerful\", \"pretty\", \"pretty\", \"pretty\", \"pretty\", \"prison\", \"prison\", \"pulp_fiction\", \"pulp_fiction\", \"pulp_fiction\", \"quinn\", \"quinn\", \"quinn\", \"rather\", \"rather\", \"rather\", \"rather\", \"real_blonde\", \"reality\", \"reality\", \"really\", \"really\", \"really\", \"redford\", \"reference\", \"reference\", \"reference\", \"reference\", \"reference\", \"relationship\", \"relationship\", \"relationship\", \"relationship\", \"relationship\", \"renfro\", \"reservoir_dog\", \"reservoir_dog\", \"rigormortis\", \"rimbaud\", \"rimini\", \"robert_forster\", \"rocky_horror\", \"rocky_horror\", \"rohmer\", \"role\", \"role\", \"role\", \"romy\", \"ronin\", \"ronin\", \"roommate\", \"roommate\", \"roommate\", \"roommate\", \"rosalba\", \"roxbury\", \"roxbury\", \"ru_afro\", \"rudy\", \"rudy\", \"rylance\", \"sandler\", \"say\", \"say\", \"say\", \"say\", \"sayle\", \"science_fiction\", \"science_fiction\", \"scorsese\", \"scream\", \"scream\", \"scream\", \"scream\", \"scully\", \"scully\", \"seagal\", \"see\", \"see\", \"see\", \"see\", \"seem\", \"seem\", \"seem\", \"seem\", \"sense\", \"sense\", \"sense\", \"sense\", \"sequel\", \"sequel\", \"sequel\", \"sequel\", \"series\", \"series\", \"series\", \"series\", \"series\", \"set\", \"set\", \"set\", \"set\", \"set\", \"sex\", \"sex\", \"sex\", \"sex\", \"shag\", \"shakespeare\", \"shakur\", \"shark\", \"shark\", \"shark\", \"ship\", \"ship\", \"show\", \"show\", \"show\", \"show\", \"shrek\", \"sidney\", \"sidney\", \"sidney\", \"silently\", \"simon_birch\", \"slasher\", \"slasher\", \"slasher\", \"slasher\", \"sleepy_hollow\", \"snake\", \"snake\", \"snake\", \"snipe\", \"snipe\", \"society\", \"society\", \"soldier\", \"song\", \"song\", \"song\", \"sonny\", \"sonny\", \"sonny\", \"spawn\", \"spawn\", \"spawn\", \"special_edition\", \"special_edition\", \"specie\", \"specie\", \"specie\", \"species_ii\", \"spencer\", \"spencer\", \"spice_girl\", \"spoof\", \"spoof\", \"spoof\", \"spoof\", \"stab\", \"stab\", \"stab\", \"stab\", \"stahl\", \"stallone\", \"stallone\", \"star\", \"star\", \"star\", \"star\", \"star_trek\", \"star_trek\", \"star_trek\", \"stargher\", \"stigmata\", \"stigmata\", \"stupid\", \"stupid\", \"stupid\", \"summer_catch\", \"supergirl\", \"take\", \"take\", \"take\", \"take\", \"take\", \"tandy\", \"tango\", \"taran\", \"tarantino\", \"tarantino\", \"tarzan\", \"tate\", \"teen\", \"teen\", \"teen\", \"television\", \"television\", \"television\", \"television\", \"tenebrae\", \"thing\", \"thing\", \"thing\", \"thing\", \"think\", \"think\", \"think\", \"think\", \"thompson\", \"thriller\", \"thriller\", \"thriller\", \"tibb\", \"tibbs\", \"time\", \"time\", \"time\", \"time\", \"titanic\", \"toback\", \"todd\", \"todd\", \"tomb_raider\", \"tornado\", \"toy\", \"toy\", \"tragedy\", \"trek\", \"trek\", \"trek\", \"trekkie\", \"troma\", \"truman\", \"try\", \"try\", \"try\", \"try\", \"tswsm\", \"tulip\", \"twister\", \"twister\", \"valek\", \"vampire\", \"varsity_blue\", \"version\", \"version\", \"version\", \"version\", \"vianne\", \"view\", \"view\", \"view\", \"voice\", \"voice\", \"voice\", \"voice\", \"voice\", \"vs_larry_flynt\", \"want\", \"want\", \"want\", \"want\", \"war\", \"war\", \"watch\", \"watch\", \"watch\", \"watch\", \"watchers_reborn\", \"way\", \"way\", \"way\", \"way\", \"wcw\", \"webb\", \"wedding\", \"wedding\", \"wedding\", \"wedding\", \"weird_al\", \"well\", \"well\", \"well\", \"well\", \"whale\", \"wild_thing\", \"wild_thing\", \"wing_commander\", \"wing_commander\", \"winter_gu\", \"woman\", \"woman\", \"woman\", \"woman\", \"woody\", \"woody\", \"work\", \"work\", \"work\", \"work\", \"work\", \"world\", \"world\", \"world\", \"world\", \"wrestle\", \"wrestle\", \"wrestler\", \"zardoz\"]}, \"R\": 30, \"lambda.step\": 0.01, \"plot.opts\": {\"xlab\": \"PC1\", \"ylab\": \"PC2\"}, \"topic.order\": [4, 3, 5, 1, 2, 6, 7]};\n",
       "\n",
       "function LDAvis_load_lib(url, callback){\n",
       "  var s = document.createElement('script');\n",
       "  s.src = url;\n",
       "  s.async = true;\n",
       "  s.onreadystatechange = s.onload = callback;\n",
       "  s.onerror = function(){console.warn(\"failed to load library \" + url);};\n",
       "  document.getElementsByTagName(\"head\")[0].appendChild(s);\n",
       "}\n",
       "\n",
       "if(typeof(LDAvis) !== \"undefined\"){\n",
       "   // already loaded: just create the visualization\n",
       "   !function(LDAvis){\n",
       "       new LDAvis(\"#\" + \"ldavis_el29465137530252481181674986\", ldavis_el29465137530252481181674986_data);\n",
       "   }(LDAvis);\n",
       "}else if(typeof define === \"function\" && define.amd){\n",
       "   // require.js is available: use it to load d3/LDAvis\n",
       "   require.config({paths: {d3: \"https://d3js.org/d3.v5\"}});\n",
       "   require([\"d3\"], function(d3){\n",
       "      window.d3 = d3;\n",
       "      LDAvis_load_lib(\"https://cdn.jsdelivr.net/gh/bmabey/pyLDAvis@3.4.0/pyLDAvis/js/ldavis.v3.0.0.js\", function(){\n",
       "        new LDAvis(\"#\" + \"ldavis_el29465137530252481181674986\", ldavis_el29465137530252481181674986_data);\n",
       "      });\n",
       "    });\n",
       "}else{\n",
       "    // require.js not available: dynamically load d3 & LDAvis\n",
       "    LDAvis_load_lib(\"https://d3js.org/d3.v5.js\", function(){\n",
       "         LDAvis_load_lib(\"https://cdn.jsdelivr.net/gh/bmabey/pyLDAvis@3.4.0/pyLDAvis/js/ldavis.v3.0.0.js\", function(){\n",
       "                 new LDAvis(\"#\" + \"ldavis_el29465137530252481181674986\", ldavis_el29465137530252481181674986_data);\n",
       "            })\n",
       "         });\n",
       "}\n",
       "</script>"
      ],
      "text/plain": [
       "PreparedData(topic_coordinates=              x         y  topics  cluster       Freq\n",
       "topic                                                \n",
       "3     -0.235515  0.028219       1        1  70.364935\n",
       "2     -0.202524 -0.007463       2        1  20.373286\n",
       "4     -0.083960 -0.020047       3        1   4.721688\n",
       "0      0.092383 -0.074172       4        1   1.597374\n",
       "1      0.141251  0.099385       5        1   1.412154\n",
       "5      0.142498 -0.013819       6        1   0.866811\n",
       "6      0.145868 -0.012103       7        1   0.663753, topic_info=               Term         Freq        Total Category  logprob  loglift\n",
       "72              get  3356.000000  3356.000000  Default  30.0000  30.0000\n",
       "76             good  3147.000000  3147.000000  Default  29.0000  29.0000\n",
       "75               go  2821.000000  2821.000000  Default  28.0000  28.0000\n",
       "14              bad  1338.000000  1338.000000  Default  27.0000  27.0000\n",
       "127            play  2166.000000  2166.000000  Default  26.0000  26.0000\n",
       "...             ...          ...          ...      ...      ...      ...\n",
       "1992       computer     7.331579   137.749691   Topic7  -6.1559   2.0818\n",
       "10414  mercury_rise     2.737661     6.951445   Topic7  -7.1410   4.0832\n",
       "9010         cusack     3.635015    27.835790   Topic7  -6.8575   2.9793\n",
       "1507          irish     3.490309    34.115244   Topic7  -6.8981   2.7353\n",
       "5750           disc     3.151707    21.037797   Topic7  -7.0002   3.1166\n",
       "\n",
       "[467 rows x 6 columns], token_table=       Topic      Freq          Term\n",
       "term                                \n",
       "672        1  0.832618        action\n",
       "672        2  0.131519        action\n",
       "672        3  0.035409        action\n",
       "14395      1  0.032462  albert_brook\n",
       "14395      2  0.941398  albert_brook\n",
       "...      ...       ...           ...\n",
       "178        4  0.001071         world\n",
       "4146       1  0.034554       wrestle\n",
       "4146       2  0.932947       wrestle\n",
       "3315       2  0.924534      wrestler\n",
       "19123      5  0.749814        zardoz\n",
       "\n",
       "[876 rows x 3 columns], R=30, lambda_step=0.01, plot_opts={'xlab': 'PC1', 'ylab': 'PC2'}, topic_order=[4, 3, 5, 1, 2, 6, 7])"
      ]
     },
     "execution_count": 25,
     "metadata": {},
     "output_type": "execute_result"
    }
   ],
   "source": [
    "pyLDAvis.enable_notebook()\n",
    "LDAvis_prepared = pyLDAvis.gensim.prepare(lda_model_final, corpus, id2word)\n",
    "LDAvis_prepared"
   ]
  },
  {
   "cell_type": "code",
   "execution_count": 26,
   "id": "45fa1167",
   "metadata": {},
   "outputs": [],
   "source": [
    "def format_topics_sentences(ldamodel=lda_model_final, corpus=corpus):\n",
    "    # Init output\n",
    "    sent_topics_list = []\n",
    "\n",
    "    # Get main topic in each document\n",
    "    for i, row_list in enumerate(ldamodel[corpus]):\n",
    "        row = row_list[0] if ldamodel.per_word_topics else row_list\n",
    "        row = sorted(row, key=lambda x: (x[1]), reverse=True)\n",
    "        # Get the Dominant topic, Perc Contribution, and Keywords for each document\n",
    "        for j, (topic_num, prop_topic) in enumerate(row):\n",
    "            if j == 0:  # => dominant topic\n",
    "                wp = ldamodel.show_topic(topic_num)\n",
    "                topic_keywords = \", \".join([word for word, prop in wp])\n",
    "                sent_topics_list.append([int(topic_num), round(prop_topic, 4), topic_keywords])\n",
    "            else:\n",
    "                break\n",
    "\n",
    "    # Create a DataFrame from the list\n",
    "    sent_topics_df = pd.DataFrame(sent_topics_list, columns=['Dominant_Topic', 'Perc_Contribution', 'Topic_Keywords'])\n",
    "\n",
    "    # Add original text to the end of the output\n",
    "    contents = pd.Series(df['text'].values)  # Ensure it is a Series\n",
    "    sent_topics_df = pd.concat([sent_topics_df, contents.reset_index(drop=True)], axis=1)\n",
    "\n",
    "    return sent_topics_df\n",
    "\n"
   ]
  },
  {
   "cell_type": "code",
   "execution_count": 27,
   "id": "61c1a021",
   "metadata": {},
   "outputs": [],
   "source": [
    "df_topic_sents_keywords = format_topics_sentences(ldamodel=lda_model_final, corpus=corpus)"
   ]
  },
  {
   "cell_type": "code",
   "execution_count": 28,
   "id": "82d2f3c0",
   "metadata": {},
   "outputs": [
    {
     "data": {
      "text/html": [
       "<div>\n",
       "<style scoped>\n",
       "    .dataframe tbody tr th:only-of-type {\n",
       "        vertical-align: middle;\n",
       "    }\n",
       "\n",
       "    .dataframe tbody tr th {\n",
       "        vertical-align: top;\n",
       "    }\n",
       "\n",
       "    .dataframe thead th {\n",
       "        text-align: right;\n",
       "    }\n",
       "</style>\n",
       "<table border=\"1\" class=\"dataframe\">\n",
       "  <thead>\n",
       "    <tr style=\"text-align: right;\">\n",
       "      <th></th>\n",
       "      <th>Document_No</th>\n",
       "      <th>Dominant_Topic</th>\n",
       "      <th>Topic_Perc_Contrib</th>\n",
       "      <th>Keywords</th>\n",
       "      <th>Text</th>\n",
       "    </tr>\n",
       "  </thead>\n",
       "  <tbody>\n",
       "    <tr>\n",
       "      <th>0</th>\n",
       "      <td>0</td>\n",
       "      <td>3</td>\n",
       "      <td>0.6812</td>\n",
       "      <td>make, good, see, get, time, well, go, even, pl...</td>\n",
       "      <td>plot : two teen couples go to a church party  ...</td>\n",
       "    </tr>\n",
       "    <tr>\n",
       "      <th>1</th>\n",
       "      <td>1</td>\n",
       "      <td>3</td>\n",
       "      <td>0.8161</td>\n",
       "      <td>make, good, see, get, time, well, go, even, pl...</td>\n",
       "      <td>the happy bastard's quick movie review \\ndamn ...</td>\n",
       "    </tr>\n",
       "    <tr>\n",
       "      <th>2</th>\n",
       "      <td>2</td>\n",
       "      <td>3</td>\n",
       "      <td>0.7833</td>\n",
       "      <td>make, good, see, get, time, well, go, even, pl...</td>\n",
       "      <td>it is movies like these that make a jaded movi...</td>\n",
       "    </tr>\n",
       "    <tr>\n",
       "      <th>3</th>\n",
       "      <td>3</td>\n",
       "      <td>2</td>\n",
       "      <td>0.9604</td>\n",
       "      <td>get, see, go, make, good, even, well, time, ba...</td>\n",
       "      <td>\" quest for camelot \" is warner bros  ' first...</td>\n",
       "    </tr>\n",
       "    <tr>\n",
       "      <th>4</th>\n",
       "      <td>4</td>\n",
       "      <td>3</td>\n",
       "      <td>0.6496</td>\n",
       "      <td>make, good, see, get, time, well, go, even, pl...</td>\n",
       "      <td>synopsis : a mentally unstable man undergoing ...</td>\n",
       "    </tr>\n",
       "    <tr>\n",
       "      <th>5</th>\n",
       "      <td>5</td>\n",
       "      <td>3</td>\n",
       "      <td>0.7285</td>\n",
       "      <td>make, good, see, get, time, well, go, even, pl...</td>\n",
       "      <td>capsule : in 2176 on the planet mars police ta...</td>\n",
       "    </tr>\n",
       "    <tr>\n",
       "      <th>6</th>\n",
       "      <td>6</td>\n",
       "      <td>3</td>\n",
       "      <td>0.9792</td>\n",
       "      <td>make, good, see, get, time, well, go, even, pl...</td>\n",
       "      <td>so ask yourself what \" 8mm \" ( \" eight millime...</td>\n",
       "    </tr>\n",
       "    <tr>\n",
       "      <th>7</th>\n",
       "      <td>7</td>\n",
       "      <td>2</td>\n",
       "      <td>0.9804</td>\n",
       "      <td>get, see, go, make, good, even, well, time, ba...</td>\n",
       "      <td>that's exactly how long the movie felt to me  ...</td>\n",
       "    </tr>\n",
       "    <tr>\n",
       "      <th>8</th>\n",
       "      <td>8</td>\n",
       "      <td>3</td>\n",
       "      <td>0.5210</td>\n",
       "      <td>make, good, see, get, time, well, go, even, pl...</td>\n",
       "      <td>call it a road trip for the walking wounded  \\...</td>\n",
       "    </tr>\n",
       "    <tr>\n",
       "      <th>9</th>\n",
       "      <td>9</td>\n",
       "      <td>2</td>\n",
       "      <td>0.9378</td>\n",
       "      <td>get, see, go, make, good, even, well, time, ba...</td>\n",
       "      <td>plot : a young french boy sees his parents kil...</td>\n",
       "    </tr>\n",
       "  </tbody>\n",
       "</table>\n",
       "</div>"
      ],
      "text/plain": [
       "   Document_No  Dominant_Topic  Topic_Perc_Contrib  \\\n",
       "0            0               3              0.6812   \n",
       "1            1               3              0.8161   \n",
       "2            2               3              0.7833   \n",
       "3            3               2              0.9604   \n",
       "4            4               3              0.6496   \n",
       "5            5               3              0.7285   \n",
       "6            6               3              0.9792   \n",
       "7            7               2              0.9804   \n",
       "8            8               3              0.5210   \n",
       "9            9               2              0.9378   \n",
       "\n",
       "                                            Keywords  \\\n",
       "0  make, good, see, get, time, well, go, even, pl...   \n",
       "1  make, good, see, get, time, well, go, even, pl...   \n",
       "2  make, good, see, get, time, well, go, even, pl...   \n",
       "3  get, see, go, make, good, even, well, time, ba...   \n",
       "4  make, good, see, get, time, well, go, even, pl...   \n",
       "5  make, good, see, get, time, well, go, even, pl...   \n",
       "6  make, good, see, get, time, well, go, even, pl...   \n",
       "7  get, see, go, make, good, even, well, time, ba...   \n",
       "8  make, good, see, get, time, well, go, even, pl...   \n",
       "9  get, see, go, make, good, even, well, time, ba...   \n",
       "\n",
       "                                                Text  \n",
       "0  plot : two teen couples go to a church party  ...  \n",
       "1  the happy bastard's quick movie review \\ndamn ...  \n",
       "2  it is movies like these that make a jaded movi...  \n",
       "3   \" quest for camelot \" is warner bros  ' first...  \n",
       "4  synopsis : a mentally unstable man undergoing ...  \n",
       "5  capsule : in 2176 on the planet mars police ta...  \n",
       "6  so ask yourself what \" 8mm \" ( \" eight millime...  \n",
       "7  that's exactly how long the movie felt to me  ...  \n",
       "8  call it a road trip for the walking wounded  \\...  \n",
       "9  plot : a young french boy sees his parents kil...  "
      ]
     },
     "execution_count": 28,
     "metadata": {},
     "output_type": "execute_result"
    }
   ],
   "source": [
    "# Now we display the topic outpts generated above merging it with original dataset and addding some columns like\n",
    "#dominant topic and topic contribution to get a better idea of the LDA topics\n",
    "df_dominant_topic = df_topic_sents_keywords.reset_index()\n",
    "df_dominant_topic.columns = ['Document_No', 'Dominant_Topic', 'Topic_Perc_Contrib', 'Keywords', 'Text']\n",
    "\n",
    "# print the final table\n",
    "df_dominant_topic.head(10)"
   ]
  },
  {
   "cell_type": "code",
   "execution_count": 29,
   "id": "69da7ae6",
   "metadata": {},
   "outputs": [
    {
     "data": {
      "text/html": [
       "<div>\n",
       "<style scoped>\n",
       "    .dataframe tbody tr th:only-of-type {\n",
       "        vertical-align: middle;\n",
       "    }\n",
       "\n",
       "    .dataframe tbody tr th {\n",
       "        vertical-align: top;\n",
       "    }\n",
       "\n",
       "    .dataframe thead th {\n",
       "        text-align: right;\n",
       "    }\n",
       "</style>\n",
       "<table border=\"1\" class=\"dataframe\">\n",
       "  <thead>\n",
       "    <tr style=\"text-align: right;\">\n",
       "      <th></th>\n",
       "      <th>Topic_Num</th>\n",
       "      <th>Topic_Perc_Contrib</th>\n",
       "      <th>Keywords</th>\n",
       "      <th>Text</th>\n",
       "    </tr>\n",
       "  </thead>\n",
       "  <tbody>\n",
       "    <tr>\n",
       "      <th>0</th>\n",
       "      <td>0</td>\n",
       "      <td>0.3646</td>\n",
       "      <td>scream, series, star_trek, mulan, spawn, bat, ...</td>\n",
       "      <td>susan granger's review of \" osmosis jones \" ( ...</td>\n",
       "    </tr>\n",
       "    <tr>\n",
       "      <th>1</th>\n",
       "      <td>2</td>\n",
       "      <td>0.9879</td>\n",
       "      <td>get, see, go, make, good, even, well, time, ba...</td>\n",
       "      <td>i've never written a review for a movie i have...</td>\n",
       "    </tr>\n",
       "    <tr>\n",
       "      <th>2</th>\n",
       "      <td>2</td>\n",
       "      <td>0.9869</td>\n",
       "      <td>get, see, go, make, good, even, well, time, ba...</td>\n",
       "      <td>mike myers  you certainly did throw us a  fric...</td>\n",
       "    </tr>\n",
       "    <tr>\n",
       "      <th>3</th>\n",
       "      <td>2</td>\n",
       "      <td>0.9868</td>\n",
       "      <td>get, see, go, make, good, even, well, time, ba...</td>\n",
       "      <td>when i first heard that disney's next animated...</td>\n",
       "    </tr>\n",
       "    <tr>\n",
       "      <th>4</th>\n",
       "      <td>2</td>\n",
       "      <td>0.9859</td>\n",
       "      <td>get, see, go, make, good, even, well, time, ba...</td>\n",
       "      <td>ready to rumble is not a masterpiece in film ;...</td>\n",
       "    </tr>\n",
       "  </tbody>\n",
       "</table>\n",
       "</div>"
      ],
      "text/plain": [
       "   Topic_Num  Topic_Perc_Contrib  \\\n",
       "0          0              0.3646   \n",
       "1          2              0.9879   \n",
       "2          2              0.9869   \n",
       "3          2              0.9868   \n",
       "4          2              0.9859   \n",
       "\n",
       "                                            Keywords  \\\n",
       "0  scream, series, star_trek, mulan, spawn, bat, ...   \n",
       "1  get, see, go, make, good, even, well, time, ba...   \n",
       "2  get, see, go, make, good, even, well, time, ba...   \n",
       "3  get, see, go, make, good, even, well, time, ba...   \n",
       "4  get, see, go, make, good, even, well, time, ba...   \n",
       "\n",
       "                                                Text  \n",
       "0  susan granger's review of \" osmosis jones \" ( ...  \n",
       "1  i've never written a review for a movie i have...  \n",
       "2  mike myers  you certainly did throw us a  fric...  \n",
       "3  when i first heard that disney's next animated...  \n",
       "4  ready to rumble is not a masterpiece in film ;...  "
      ]
     },
     "execution_count": 29,
     "metadata": {},
     "output_type": "execute_result"
    }
   ],
   "source": [
    "# top sentences under each topic so as to see how good the model works\n",
    "sent_topics_sorteddf_mallet = pd.DataFrame()\n",
    "\n",
    "sent_topics_outdf_grpd = df_topic_sents_keywords.groupby('Dominant_Topic')\n",
    "\n",
    "for i, grp in sent_topics_outdf_grpd:\n",
    "    sent_topics_sorteddf_mallet = pd.concat([sent_topics_sorteddf_mallet, \n",
    "                                            grp.sort_values(['Perc_Contribution'], ascending=[0]).head(5)], \n",
    "                                            axis=0)\n",
    "\n",
    "# Reset Index    \n",
    "sent_topics_sorteddf_mallet.reset_index(drop=True, inplace=True)\n",
    "\n",
    "# Format the output table\n",
    "sent_topics_sorteddf_mallet.columns = ['Topic_Num', \"Topic_Perc_Contrib\", \"Keywords\", \"Text\"]\n",
    "\n",
    "# print the final table\n",
    "sent_topics_sorteddf_mallet.head()"
   ]
  }
 ],
 "metadata": {
  "kernelspec": {
   "display_name": "Python 3 (ipykernel)",
   "language": "python",
   "name": "python3"
  },
  "language_info": {
   "codemirror_mode": {
    "name": "ipython",
    "version": 3
   },
   "file_extension": ".py",
   "mimetype": "text/x-python",
   "name": "python",
   "nbconvert_exporter": "python",
   "pygments_lexer": "ipython3",
   "version": "3.10.12"
  }
 },
 "nbformat": 4,
 "nbformat_minor": 5
}
